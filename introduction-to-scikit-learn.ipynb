{
 "cells": [
  {
   "cell_type": "markdown",
   "source": [
    "# Introduction to SciKit-Learn (SKLearn)\r\n",
    "\r\n",
    "## This notebook demonstrates some of the most beautiful functions of the beautiful scikit learn library\r\n",
    "\r\n",
    "What we're going to cover:\r\n",
    "\r\n",
    "0. An end-end scikit-learn workflow\r\n",
    "1. Getting the Data ready\r\n",
    "2. Choose the right estimator (another word for machine learning model) for our problems\r\n",
    "3. Fit the model/algorithm/estimator and use it to make predicitions on our data\r\n",
    "4. Evaluating a model\r\n",
    "5. Improve our model\r\n",
    "6. Save & Load a Trained model\r\n",
    "7. Put it all together and see how it all fits!\r\n"
   ],
   "metadata": {}
  },
  {
   "cell_type": "markdown",
   "source": [
    "## 0. An End-End Scikit-Learn Workflow"
   ],
   "metadata": {}
  },
  {
   "cell_type": "code",
   "execution_count": 1,
   "source": [
    "# 1. Get the Data ready\r\n",
    "import pandas as pd\r\n",
    "heart_disease = pd.read_csv(\"\")"
   ],
   "outputs": [],
   "metadata": {}
  },
  {
   "cell_type": "code",
   "execution_count": null,
   "source": [],
   "outputs": [],
   "metadata": {}
  }
 ],
 "metadata": {
  "orig_nbformat": 4,
  "language_info": {
   "name": "python",
   "version": "3.8.8",
   "mimetype": "text/x-python",
   "codemirror_mode": {
    "name": "ipython",
    "version": 3
   },
   "pygments_lexer": "ipython3",
   "nbconvert_exporter": "python",
   "file_extension": ".py"
  },
  "kernelspec": {
   "name": "python3",
   "display_name": "Python 3.8.8 64-bit (conda)"
  },
  "interpreter": {
   "hash": "1dfad483dd7e94082658d04cd83c89a748897372bd6457a89848a445d79213ac"
  }
 },
 "nbformat": 4,
 "nbformat_minor": 2
}