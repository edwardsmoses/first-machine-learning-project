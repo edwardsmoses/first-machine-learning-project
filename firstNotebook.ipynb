{
 "cells": [
  {
   "cell_type": "code",
   "execution_count": 2,
   "id": "separated-bread",
   "metadata": {},
   "outputs": [],
   "source": [
    "import pandas as pd\n",
    "import numpy as np\n",
    "import matplotlib.pyplot as plt\n",
    "import sklearn"
   ]
  },
  {
   "cell_type": "code",
   "execution_count": 5,
   "id": "hungarian-steps",
   "metadata": {},
   "outputs": [
    {
     "output_type": "stream",
     "name": "stdout",
     "text": [
      "hello world\nRunning in VS Code\n"
     ]
    }
   ],
   "source": [
    "print(\"hello world\")\n",
    "print(\"Running in VS Code\")"
   ]
  },
  {
   "cell_type": "code",
   "execution_count": 5,
   "id": "current-guard",
   "metadata": {},
   "outputs": [
    {
     "output_type": "stream",
     "name": "stdout",
     "text": [
      "2+2\n4\n"
     ]
    }
   ],
   "source": [
    "print('2+2')\n",
    "print(2+2)"
   ]
  },
  {
   "cell_type": "code",
   "execution_count": 1,
   "id": "tribal-volleyball",
   "metadata": {},
   "outputs": [
    {
     "output_type": "stream",
     "name": "stdout",
     "text": [
      "Welcome to this pla\n"
     ]
    }
   ],
   "source": [
    "print(\"Welcome to this pla\")"
   ]
  },
  {
   "cell_type": "code",
   "execution_count": 10,
   "id": "secondary-graph",
   "metadata": {},
   "outputs": [
    {
     "output_type": "stream",
     "name": "stdout",
     "text": [
      "5\n43\nIt's running on VSCode.. But, I'm not sure if it's running correctly\n"
     ]
    }
   ],
   "source": [
    "print(1+4)\n",
    "print(9+34)\n",
    "print(\"It's running on VSCode.. But, I'm not sure if it's running correctly\");"
   ]
  },
  {
   "cell_type": "code",
   "execution_count": 5,
   "id": "inside-preservation",
   "metadata": {},
   "outputs": [
    {
     "name": "stdout",
     "output_type": "stream",
     "text": [
      "7\n"
     ]
    }
   ],
   "source": [
    "print (1+6)"
   ]
  },
  {
   "cell_type": "code",
   "execution_count": 6,
   "id": "mighty-planet",
   "metadata": {},
   "outputs": [
    {
     "name": "stdout",
     "output_type": "stream",
     "text": [
      "11\n"
     ]
    }
   ],
   "source": [
    "print(9+2)"
   ]
  },
  {
   "cell_type": "code",
   "execution_count": null,
   "id": "bound-guatemala",
   "metadata": {},
   "outputs": [],
   "source": []
  }
 ],
 "metadata": {
  "kernelspec": {
   "name": "python385jvsc74a57bd03bb3707d5865f0e0e06961a47c3bdf40641e88cd22b80089f0bf187846d3112f",
   "display_name": "Python 3.8.5 64-bit ('base': conda)"
  },
  "language_info": {
   "codemirror_mode": {
    "name": "ipython",
    "version": 3
   },
   "file_extension": ".py",
   "mimetype": "text/x-python",
   "name": "python",
   "nbconvert_exporter": "python",
   "pygments_lexer": "ipython3",
   "version": "3.8.5"
  }
 },
 "nbformat": 4,
 "nbformat_minor": 5
}