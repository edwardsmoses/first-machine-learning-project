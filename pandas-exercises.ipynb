{
 "cells": [
  {
   "cell_type": "markdown",
   "metadata": {},
   "source": [
    "# Pandas Practice\n",
    "\n",
    "This notebook is dedicated to practicing different tasks with pandas. The solutions are available in a solutions notebook, however, you should always try to figure them out yourself first.\n",
    "\n",
    "It should be noted there may be more than one different way to answer a question or complete an exercise.\n",
    "\n",
    "Exercises are based off (and directly taken from) the quick introduction to pandas notebook.\n",
    "\n",
    "Different tasks will be detailed by comments or text.\n",
    "\n",
    "For further reference and resources, it's advised to check out the [pandas documnetation](https://pandas.pydata.org/pandas-docs/stable/)."
   ]
  },
  {
   "cell_type": "code",
   "execution_count": 1,
   "metadata": {},
   "outputs": [],
   "source": [
    "# Import pandas\n",
    "import pandas as pd;"
   ]
  },
  {
   "cell_type": "code",
   "execution_count": 4,
   "metadata": {},
   "outputs": [
    {
     "output_type": "execute_result",
     "data": {
      "text/plain": [
       "0     Green\n",
       "1       Red\n",
       "2    Yellow\n",
       "dtype: object"
      ]
     },
     "metadata": {},
     "execution_count": 4
    }
   ],
   "source": [
    "# Create a series of three different colours\n",
    "colors = pd.Series([\"Green\", \"Red\", \"Yellow\"]);"
   ]
  },
  {
   "cell_type": "code",
   "execution_count": 5,
   "metadata": {},
   "outputs": [
    {
     "output_type": "execute_result",
     "data": {
      "text/plain": [
       "0     Green\n",
       "1       Red\n",
       "2    Yellow\n",
       "dtype: object"
      ]
     },
     "metadata": {},
     "execution_count": 5
    }
   ],
   "source": [
    "# View the series of different colours\n",
    "colors"
   ]
  },
  {
   "cell_type": "code",
   "execution_count": 6,
   "metadata": {},
   "outputs": [
    {
     "output_type": "execute_result",
     "data": {
      "text/plain": [
       "0       Kia\n",
       "1    Toyota\n",
       "2      Ford\n",
       "dtype: object"
      ]
     },
     "metadata": {},
     "execution_count": 6
    }
   ],
   "source": [
    "# Create a series of three different car types and view it\n",
    "cars = pd.Series([\"Kia\", \"Toyota\", \"Ford\"]);\n",
    "cars"
   ]
  },
  {
   "cell_type": "code",
   "execution_count": 11,
   "metadata": {},
   "outputs": [
    {
     "output_type": "execute_result",
     "data": {
      "text/plain": [
       "        0       1\n",
       "0     Kia   Green\n",
       "1  Toyota     Red\n",
       "2    Ford  Yellow"
      ],
      "text/html": "<div>\n<style scoped>\n    .dataframe tbody tr th:only-of-type {\n        vertical-align: middle;\n    }\n\n    .dataframe tbody tr th {\n        vertical-align: top;\n    }\n\n    .dataframe thead th {\n        text-align: right;\n    }\n</style>\n<table border=\"1\" class=\"dataframe\">\n  <thead>\n    <tr style=\"text-align: right;\">\n      <th></th>\n      <th>0</th>\n      <th>1</th>\n    </tr>\n  </thead>\n  <tbody>\n    <tr>\n      <th>0</th>\n      <td>Kia</td>\n      <td>Green</td>\n    </tr>\n    <tr>\n      <th>1</th>\n      <td>Toyota</td>\n      <td>Red</td>\n    </tr>\n    <tr>\n      <th>2</th>\n      <td>Ford</td>\n      <td>Yellow</td>\n    </tr>\n  </tbody>\n</table>\n</div>"
     },
     "metadata": {},
     "execution_count": 11
    }
   ],
   "source": [
    "# Combine the Series of cars and colours into a DataFrame\n",
    "cars_colors = pd.concat([cars, colors], axis=1);\n",
    "cars_colors"
   ]
  },
  {
   "cell_type": "code",
   "execution_count": 12,
   "metadata": {},
   "outputs": [
    {
     "output_type": "execute_result",
     "data": {
      "text/plain": [
       "     Make Colour  Odometer (KM)  Doors       Price\n",
       "0  Toyota  White         150043      4   $4,000.00\n",
       "1   Honda    Red          87899      4   $5,000.00\n",
       "2  Toyota   Blue          32549      3   $7,000.00\n",
       "3     BMW  Black          11179      5  $22,000.00\n",
       "4  Nissan  White         213095      4   $3,500.00\n",
       "5  Toyota  Green          99213      4   $4,500.00\n",
       "6   Honda   Blue          45698      4   $7,500.00\n",
       "7   Honda   Blue          54738      4   $7,000.00\n",
       "8  Toyota  White          60000      4   $6,250.00\n",
       "9  Nissan  White          31600      4   $9,700.00"
      ],
      "text/html": "<div>\n<style scoped>\n    .dataframe tbody tr th:only-of-type {\n        vertical-align: middle;\n    }\n\n    .dataframe tbody tr th {\n        vertical-align: top;\n    }\n\n    .dataframe thead th {\n        text-align: right;\n    }\n</style>\n<table border=\"1\" class=\"dataframe\">\n  <thead>\n    <tr style=\"text-align: right;\">\n      <th></th>\n      <th>Make</th>\n      <th>Colour</th>\n      <th>Odometer (KM)</th>\n      <th>Doors</th>\n      <th>Price</th>\n    </tr>\n  </thead>\n  <tbody>\n    <tr>\n      <th>0</th>\n      <td>Toyota</td>\n      <td>White</td>\n      <td>150043</td>\n      <td>4</td>\n      <td>$4,000.00</td>\n    </tr>\n    <tr>\n      <th>1</th>\n      <td>Honda</td>\n      <td>Red</td>\n      <td>87899</td>\n      <td>4</td>\n      <td>$5,000.00</td>\n    </tr>\n    <tr>\n      <th>2</th>\n      <td>Toyota</td>\n      <td>Blue</td>\n      <td>32549</td>\n      <td>3</td>\n      <td>$7,000.00</td>\n    </tr>\n    <tr>\n      <th>3</th>\n      <td>BMW</td>\n      <td>Black</td>\n      <td>11179</td>\n      <td>5</td>\n      <td>$22,000.00</td>\n    </tr>\n    <tr>\n      <th>4</th>\n      <td>Nissan</td>\n      <td>White</td>\n      <td>213095</td>\n      <td>4</td>\n      <td>$3,500.00</td>\n    </tr>\n    <tr>\n      <th>5</th>\n      <td>Toyota</td>\n      <td>Green</td>\n      <td>99213</td>\n      <td>4</td>\n      <td>$4,500.00</td>\n    </tr>\n    <tr>\n      <th>6</th>\n      <td>Honda</td>\n      <td>Blue</td>\n      <td>45698</td>\n      <td>4</td>\n      <td>$7,500.00</td>\n    </tr>\n    <tr>\n      <th>7</th>\n      <td>Honda</td>\n      <td>Blue</td>\n      <td>54738</td>\n      <td>4</td>\n      <td>$7,000.00</td>\n    </tr>\n    <tr>\n      <th>8</th>\n      <td>Toyota</td>\n      <td>White</td>\n      <td>60000</td>\n      <td>4</td>\n      <td>$6,250.00</td>\n    </tr>\n    <tr>\n      <th>9</th>\n      <td>Nissan</td>\n      <td>White</td>\n      <td>31600</td>\n      <td>4</td>\n      <td>$9,700.00</td>\n    </tr>\n  </tbody>\n</table>\n</div>"
     },
     "metadata": {},
     "execution_count": 12
    }
   ],
   "source": [
    "# Import \"../data/car-sales.csv\" and turn it into a DataFrame\n",
    "car_sales = pd.read_csv(\"https://raw.githubusercontent.com/mrdbourke/zero-to-mastery-ml/master/data/car-sales.csv\");\n",
    "car_sales"
   ]
  },
  {
   "cell_type": "markdown",
   "metadata": {},
   "source": [
    "**Note:** Since you've imported `../data/car-sales.csv` as a DataFrame, we'll now refer to this DataFrame as 'the car sales DataFrame'."
   ]
  },
  {
   "cell_type": "code",
   "execution_count": 13,
   "metadata": {},
   "outputs": [],
   "source": [
    "# Export the DataFrame you created to a .csv file\n",
    "car_sales.to_csv(\"New_Car_Sales.csv\");"
   ]
  },
  {
   "cell_type": "code",
   "execution_count": 14,
   "metadata": {},
   "outputs": [
    {
     "output_type": "execute_result",
     "data": {
      "text/plain": [
       "Make             object\n",
       "Colour           object\n",
       "Odometer (KM)     int64\n",
       "Doors             int64\n",
       "Price            object\n",
       "dtype: object"
      ]
     },
     "metadata": {},
     "execution_count": 14
    }
   ],
   "source": [
    "# Find the different datatypes of the car data DataFrame\n",
    "car_sales.dtypes"
   ]
  },
  {
   "cell_type": "code",
   "execution_count": 15,
   "metadata": {},
   "outputs": [
    {
     "output_type": "execute_result",
     "data": {
      "text/plain": [
       "       Odometer (KM)      Doors\n",
       "count      10.000000  10.000000\n",
       "mean    78601.400000   4.000000\n",
       "std     61983.471735   0.471405\n",
       "min     11179.000000   3.000000\n",
       "25%     35836.250000   4.000000\n",
       "50%     57369.000000   4.000000\n",
       "75%     96384.500000   4.000000\n",
       "max    213095.000000   5.000000"
      ],
      "text/html": "<div>\n<style scoped>\n    .dataframe tbody tr th:only-of-type {\n        vertical-align: middle;\n    }\n\n    .dataframe tbody tr th {\n        vertical-align: top;\n    }\n\n    .dataframe thead th {\n        text-align: right;\n    }\n</style>\n<table border=\"1\" class=\"dataframe\">\n  <thead>\n    <tr style=\"text-align: right;\">\n      <th></th>\n      <th>Odometer (KM)</th>\n      <th>Doors</th>\n    </tr>\n  </thead>\n  <tbody>\n    <tr>\n      <th>count</th>\n      <td>10.000000</td>\n      <td>10.000000</td>\n    </tr>\n    <tr>\n      <th>mean</th>\n      <td>78601.400000</td>\n      <td>4.000000</td>\n    </tr>\n    <tr>\n      <th>std</th>\n      <td>61983.471735</td>\n      <td>0.471405</td>\n    </tr>\n    <tr>\n      <th>min</th>\n      <td>11179.000000</td>\n      <td>3.000000</td>\n    </tr>\n    <tr>\n      <th>25%</th>\n      <td>35836.250000</td>\n      <td>4.000000</td>\n    </tr>\n    <tr>\n      <th>50%</th>\n      <td>57369.000000</td>\n      <td>4.000000</td>\n    </tr>\n    <tr>\n      <th>75%</th>\n      <td>96384.500000</td>\n      <td>4.000000</td>\n    </tr>\n    <tr>\n      <th>max</th>\n      <td>213095.000000</td>\n      <td>5.000000</td>\n    </tr>\n  </tbody>\n</table>\n</div>"
     },
     "metadata": {},
     "execution_count": 15
    }
   ],
   "source": [
    "# Describe your current car sales DataFrame using describe()\n",
    "car_sales.describe()"
   ]
  },
  {
   "cell_type": "code",
   "execution_count": 16,
   "metadata": {},
   "outputs": [
    {
     "output_type": "execute_result",
     "data": {
      "text/plain": [
       "<bound method DataFrame.info of      Make Colour  Odometer (KM)  Doors       Price\n",
       "0  Toyota  White         150043      4   $4,000.00\n",
       "1   Honda    Red          87899      4   $5,000.00\n",
       "2  Toyota   Blue          32549      3   $7,000.00\n",
       "3     BMW  Black          11179      5  $22,000.00\n",
       "4  Nissan  White         213095      4   $3,500.00\n",
       "5  Toyota  Green          99213      4   $4,500.00\n",
       "6   Honda   Blue          45698      4   $7,500.00\n",
       "7   Honda   Blue          54738      4   $7,000.00\n",
       "8  Toyota  White          60000      4   $6,250.00\n",
       "9  Nissan  White          31600      4   $9,700.00>"
      ]
     },
     "metadata": {},
     "execution_count": 16
    }
   ],
   "source": [
    "# Get information about your DataFrame using info()\n",
    "car_sales.info"
   ]
  },
  {
   "cell_type": "markdown",
   "metadata": {},
   "source": [
    "What does it show you?\n",
    "\n",
    "It shows the Car Sales with an header of the Information. "
   ]
  },
  {
   "cell_type": "code",
   "execution_count": 18,
   "metadata": {},
   "outputs": [
    {
     "output_type": "execute_result",
     "data": {
      "text/plain": [
       "3.6"
      ]
     },
     "metadata": {},
     "execution_count": 18
    }
   ],
   "source": [
    "# Create a Series of different numbers and find the mean of them\n",
    "variantNumbers = pd.Series([1,3,4,5,5]);\n",
    "variantNumbers.mean()"
   ]
  },
  {
   "cell_type": "code",
   "execution_count": 19,
   "metadata": {},
   "outputs": [
    {
     "output_type": "execute_result",
     "data": {
      "text/plain": [
       "18"
      ]
     },
     "metadata": {},
     "execution_count": 19
    }
   ],
   "source": [
    "# Create a Series of different numbers and find the sum of them\n",
    "variantNumbers.sum()"
   ]
  },
  {
   "cell_type": "code",
   "execution_count": 20,
   "metadata": {},
   "outputs": [
    {
     "output_type": "execute_result",
     "data": {
      "text/plain": [
       "Index(['Make', 'Colour', 'Odometer (KM)', 'Doors', 'Price'], dtype='object')"
      ]
     },
     "metadata": {},
     "execution_count": 20
    }
   ],
   "source": [
    "# List out all the column names of the car sales DataFrame\n",
    "car_sales.columns"
   ]
  },
  {
   "cell_type": "code",
   "execution_count": 23,
   "metadata": {},
   "outputs": [
    {
     "output_type": "execute_result",
     "data": {
      "text/plain": [
       "10"
      ]
     },
     "metadata": {},
     "execution_count": 23
    }
   ],
   "source": [
    "# Find the length of the car sales DataFrame\n",
    "len(car_sales.index)"
   ]
  },
  {
   "cell_type": "code",
   "execution_count": 24,
   "metadata": {},
   "outputs": [
    {
     "output_type": "execute_result",
     "data": {
      "text/plain": [
       "     Make Colour  Odometer (KM)  Doors       Price\n",
       "0  Toyota  White         150043      4   $4,000.00\n",
       "1   Honda    Red          87899      4   $5,000.00\n",
       "2  Toyota   Blue          32549      3   $7,000.00\n",
       "3     BMW  Black          11179      5  $22,000.00\n",
       "4  Nissan  White         213095      4   $3,500.00"
      ],
      "text/html": "<div>\n<style scoped>\n    .dataframe tbody tr th:only-of-type {\n        vertical-align: middle;\n    }\n\n    .dataframe tbody tr th {\n        vertical-align: top;\n    }\n\n    .dataframe thead th {\n        text-align: right;\n    }\n</style>\n<table border=\"1\" class=\"dataframe\">\n  <thead>\n    <tr style=\"text-align: right;\">\n      <th></th>\n      <th>Make</th>\n      <th>Colour</th>\n      <th>Odometer (KM)</th>\n      <th>Doors</th>\n      <th>Price</th>\n    </tr>\n  </thead>\n  <tbody>\n    <tr>\n      <th>0</th>\n      <td>Toyota</td>\n      <td>White</td>\n      <td>150043</td>\n      <td>4</td>\n      <td>$4,000.00</td>\n    </tr>\n    <tr>\n      <th>1</th>\n      <td>Honda</td>\n      <td>Red</td>\n      <td>87899</td>\n      <td>4</td>\n      <td>$5,000.00</td>\n    </tr>\n    <tr>\n      <th>2</th>\n      <td>Toyota</td>\n      <td>Blue</td>\n      <td>32549</td>\n      <td>3</td>\n      <td>$7,000.00</td>\n    </tr>\n    <tr>\n      <th>3</th>\n      <td>BMW</td>\n      <td>Black</td>\n      <td>11179</td>\n      <td>5</td>\n      <td>$22,000.00</td>\n    </tr>\n    <tr>\n      <th>4</th>\n      <td>Nissan</td>\n      <td>White</td>\n      <td>213095</td>\n      <td>4</td>\n      <td>$3,500.00</td>\n    </tr>\n  </tbody>\n</table>\n</div>"
     },
     "metadata": {},
     "execution_count": 24
    }
   ],
   "source": [
    "# Show the first 5 rows of the car sales DataFrame\n",
    "car_sales.head(5)"
   ]
  },
  {
   "cell_type": "code",
   "execution_count": 25,
   "metadata": {},
   "outputs": [
    {
     "output_type": "execute_result",
     "data": {
      "text/plain": [
       "     Make Colour  Odometer (KM)  Doors       Price\n",
       "0  Toyota  White         150043      4   $4,000.00\n",
       "1   Honda    Red          87899      4   $5,000.00\n",
       "2  Toyota   Blue          32549      3   $7,000.00\n",
       "3     BMW  Black          11179      5  $22,000.00\n",
       "4  Nissan  White         213095      4   $3,500.00\n",
       "5  Toyota  Green          99213      4   $4,500.00\n",
       "6   Honda   Blue          45698      4   $7,500.00"
      ],
      "text/html": "<div>\n<style scoped>\n    .dataframe tbody tr th:only-of-type {\n        vertical-align: middle;\n    }\n\n    .dataframe tbody tr th {\n        vertical-align: top;\n    }\n\n    .dataframe thead th {\n        text-align: right;\n    }\n</style>\n<table border=\"1\" class=\"dataframe\">\n  <thead>\n    <tr style=\"text-align: right;\">\n      <th></th>\n      <th>Make</th>\n      <th>Colour</th>\n      <th>Odometer (KM)</th>\n      <th>Doors</th>\n      <th>Price</th>\n    </tr>\n  </thead>\n  <tbody>\n    <tr>\n      <th>0</th>\n      <td>Toyota</td>\n      <td>White</td>\n      <td>150043</td>\n      <td>4</td>\n      <td>$4,000.00</td>\n    </tr>\n    <tr>\n      <th>1</th>\n      <td>Honda</td>\n      <td>Red</td>\n      <td>87899</td>\n      <td>4</td>\n      <td>$5,000.00</td>\n    </tr>\n    <tr>\n      <th>2</th>\n      <td>Toyota</td>\n      <td>Blue</td>\n      <td>32549</td>\n      <td>3</td>\n      <td>$7,000.00</td>\n    </tr>\n    <tr>\n      <th>3</th>\n      <td>BMW</td>\n      <td>Black</td>\n      <td>11179</td>\n      <td>5</td>\n      <td>$22,000.00</td>\n    </tr>\n    <tr>\n      <th>4</th>\n      <td>Nissan</td>\n      <td>White</td>\n      <td>213095</td>\n      <td>4</td>\n      <td>$3,500.00</td>\n    </tr>\n    <tr>\n      <th>5</th>\n      <td>Toyota</td>\n      <td>Green</td>\n      <td>99213</td>\n      <td>4</td>\n      <td>$4,500.00</td>\n    </tr>\n    <tr>\n      <th>6</th>\n      <td>Honda</td>\n      <td>Blue</td>\n      <td>45698</td>\n      <td>4</td>\n      <td>$7,500.00</td>\n    </tr>\n  </tbody>\n</table>\n</div>"
     },
     "metadata": {},
     "execution_count": 25
    }
   ],
   "source": [
    "# Show the first 7 rows of the car sales DataFrame\n",
    "car_sales.head(7)"
   ]
  },
  {
   "cell_type": "code",
   "execution_count": 26,
   "metadata": {},
   "outputs": [
    {
     "output_type": "execute_result",
     "data": {
      "text/plain": [
       "     Make Colour  Odometer (KM)  Doors      Price\n",
       "5  Toyota  Green          99213      4  $4,500.00\n",
       "6   Honda   Blue          45698      4  $7,500.00\n",
       "7   Honda   Blue          54738      4  $7,000.00\n",
       "8  Toyota  White          60000      4  $6,250.00\n",
       "9  Nissan  White          31600      4  $9,700.00"
      ],
      "text/html": "<div>\n<style scoped>\n    .dataframe tbody tr th:only-of-type {\n        vertical-align: middle;\n    }\n\n    .dataframe tbody tr th {\n        vertical-align: top;\n    }\n\n    .dataframe thead th {\n        text-align: right;\n    }\n</style>\n<table border=\"1\" class=\"dataframe\">\n  <thead>\n    <tr style=\"text-align: right;\">\n      <th></th>\n      <th>Make</th>\n      <th>Colour</th>\n      <th>Odometer (KM)</th>\n      <th>Doors</th>\n      <th>Price</th>\n    </tr>\n  </thead>\n  <tbody>\n    <tr>\n      <th>5</th>\n      <td>Toyota</td>\n      <td>Green</td>\n      <td>99213</td>\n      <td>4</td>\n      <td>$4,500.00</td>\n    </tr>\n    <tr>\n      <th>6</th>\n      <td>Honda</td>\n      <td>Blue</td>\n      <td>45698</td>\n      <td>4</td>\n      <td>$7,500.00</td>\n    </tr>\n    <tr>\n      <th>7</th>\n      <td>Honda</td>\n      <td>Blue</td>\n      <td>54738</td>\n      <td>4</td>\n      <td>$7,000.00</td>\n    </tr>\n    <tr>\n      <th>8</th>\n      <td>Toyota</td>\n      <td>White</td>\n      <td>60000</td>\n      <td>4</td>\n      <td>$6,250.00</td>\n    </tr>\n    <tr>\n      <th>9</th>\n      <td>Nissan</td>\n      <td>White</td>\n      <td>31600</td>\n      <td>4</td>\n      <td>$9,700.00</td>\n    </tr>\n  </tbody>\n</table>\n</div>"
     },
     "metadata": {},
     "execution_count": 26
    }
   ],
   "source": [
    "# Show the bottom 5 rows of the car sales DataFrame\n",
    "car_sales.tail(5)"
   ]
  },
  {
   "cell_type": "code",
   "execution_count": 28,
   "metadata": {},
   "outputs": [
    {
     "output_type": "execute_result",
     "data": {
      "text/plain": [
       "Make                    BMW\n",
       "Colour                Black\n",
       "Odometer (KM)         11179\n",
       "Doors                     5\n",
       "Price            $22,000.00\n",
       "Name: 3, dtype: object"
      ]
     },
     "metadata": {},
     "execution_count": 28
    }
   ],
   "source": [
    "# Use .loc to select the row at index 3 of the car sales DataFrame\n",
    "car_sales.loc[3]"
   ]
  },
  {
   "cell_type": "code",
   "execution_count": 29,
   "metadata": {},
   "outputs": [
    {
     "output_type": "execute_result",
     "data": {
      "text/plain": [
       "Make                    BMW\n",
       "Colour                Black\n",
       "Odometer (KM)         11179\n",
       "Doors                     5\n",
       "Price            $22,000.00\n",
       "Name: 3, dtype: object"
      ]
     },
     "metadata": {},
     "execution_count": 29
    }
   ],
   "source": [
    "# Use .iloc to select the row at position 3 of the car sales DataFrame\n",
    "car_sales.iloc[3]"
   ]
  },
  {
   "cell_type": "markdown",
   "metadata": {},
   "source": [
    "Notice how they're the same? Why do you think this is? \n",
    "\n",
    "Check the pandas documentation for [.loc](https://pandas.pydata.org/pandas-docs/stable/reference/api/pandas.DataFrame.loc.html) and [.iloc](https://pandas.pydata.org/pandas-docs/stable/reference/api/pandas.DataFrame.iloc.html). Think about a different situation each could be used for and try them out."
   ]
  },
  {
   "cell_type": "code",
   "execution_count": 30,
   "metadata": {},
   "outputs": [
    {
     "output_type": "execute_result",
     "data": {
      "text/plain": [
       "0    150043\n",
       "1     87899\n",
       "2     32549\n",
       "3     11179\n",
       "4    213095\n",
       "5     99213\n",
       "6     45698\n",
       "7     54738\n",
       "8     60000\n",
       "9     31600\n",
       "Name: Odometer (KM), dtype: int64"
      ]
     },
     "metadata": {},
     "execution_count": 30
    }
   ],
   "source": [
    "# Select the \"Odometer (KM)\" column from the car sales DataFrame\n",
    "car_sales[\"Odometer (KM)\"]"
   ]
  },
  {
   "cell_type": "code",
   "execution_count": 31,
   "metadata": {},
   "outputs": [
    {
     "output_type": "execute_result",
     "data": {
      "text/plain": [
       "78601.4"
      ]
     },
     "metadata": {},
     "execution_count": 31
    }
   ],
   "source": [
    "# Find the mean of the \"Odometer (KM)\" column in the car sales DataFrame\n",
    "car_sales[\"Odometer (KM)\"].mean()"
   ]
  },
  {
   "cell_type": "code",
   "execution_count": 35,
   "metadata": {},
   "outputs": [
    {
     "output_type": "execute_result",
     "data": {
      "text/plain": [
       "     Make Colour  Odometer (KM)  Doors      Price\n",
       "0  Toyota  White         150043      4  $4,000.00\n",
       "4  Nissan  White         213095      4  $3,500.00"
      ],
      "text/html": "<div>\n<style scoped>\n    .dataframe tbody tr th:only-of-type {\n        vertical-align: middle;\n    }\n\n    .dataframe tbody tr th {\n        vertical-align: top;\n    }\n\n    .dataframe thead th {\n        text-align: right;\n    }\n</style>\n<table border=\"1\" class=\"dataframe\">\n  <thead>\n    <tr style=\"text-align: right;\">\n      <th></th>\n      <th>Make</th>\n      <th>Colour</th>\n      <th>Odometer (KM)</th>\n      <th>Doors</th>\n      <th>Price</th>\n    </tr>\n  </thead>\n  <tbody>\n    <tr>\n      <th>0</th>\n      <td>Toyota</td>\n      <td>White</td>\n      <td>150043</td>\n      <td>4</td>\n      <td>$4,000.00</td>\n    </tr>\n    <tr>\n      <th>4</th>\n      <td>Nissan</td>\n      <td>White</td>\n      <td>213095</td>\n      <td>4</td>\n      <td>$3,500.00</td>\n    </tr>\n  </tbody>\n</table>\n</div>"
     },
     "metadata": {},
     "execution_count": 35
    }
   ],
   "source": [
    "# Select the rows with over 100,000 kilometers on the Odometer\n",
    "car_sales[car_sales[\"Odometer (KM)\"] > 100000]"
   ]
  },
  {
   "cell_type": "code",
   "execution_count": 36,
   "metadata": {},
   "outputs": [
    {
     "output_type": "execute_result",
     "data": {
      "text/plain": [
       "Doors   3  4  5\n",
       "Make           \n",
       "BMW     0  0  1\n",
       "Honda   0  3  0\n",
       "Nissan  0  2  0\n",
       "Toyota  1  3  0"
      ],
      "text/html": "<div>\n<style scoped>\n    .dataframe tbody tr th:only-of-type {\n        vertical-align: middle;\n    }\n\n    .dataframe tbody tr th {\n        vertical-align: top;\n    }\n\n    .dataframe thead th {\n        text-align: right;\n    }\n</style>\n<table border=\"1\" class=\"dataframe\">\n  <thead>\n    <tr style=\"text-align: right;\">\n      <th>Doors</th>\n      <th>3</th>\n      <th>4</th>\n      <th>5</th>\n    </tr>\n    <tr>\n      <th>Make</th>\n      <th></th>\n      <th></th>\n      <th></th>\n    </tr>\n  </thead>\n  <tbody>\n    <tr>\n      <th>BMW</th>\n      <td>0</td>\n      <td>0</td>\n      <td>1</td>\n    </tr>\n    <tr>\n      <th>Honda</th>\n      <td>0</td>\n      <td>3</td>\n      <td>0</td>\n    </tr>\n    <tr>\n      <th>Nissan</th>\n      <td>0</td>\n      <td>2</td>\n      <td>0</td>\n    </tr>\n    <tr>\n      <th>Toyota</th>\n      <td>1</td>\n      <td>3</td>\n      <td>0</td>\n    </tr>\n  </tbody>\n</table>\n</div>"
     },
     "metadata": {},
     "execution_count": 36
    }
   ],
   "source": [
    "# Create a crosstab of the Make and Doors columns\n",
    "pd.crosstab(car_sales.Make, car_sales.Doors)"
   ]
  },
  {
   "cell_type": "code",
   "execution_count": 38,
   "metadata": {},
   "outputs": [
    {
     "output_type": "execute_result",
     "data": {
      "text/plain": [
       "        Odometer (KM)  Doors\n",
       "Make                        \n",
       "BMW      11179.000000   5.00\n",
       "Honda    62778.333333   4.00\n",
       "Nissan  122347.500000   4.00\n",
       "Toyota   85451.250000   3.75"
      ],
      "text/html": "<div>\n<style scoped>\n    .dataframe tbody tr th:only-of-type {\n        vertical-align: middle;\n    }\n\n    .dataframe tbody tr th {\n        vertical-align: top;\n    }\n\n    .dataframe thead th {\n        text-align: right;\n    }\n</style>\n<table border=\"1\" class=\"dataframe\">\n  <thead>\n    <tr style=\"text-align: right;\">\n      <th></th>\n      <th>Odometer (KM)</th>\n      <th>Doors</th>\n    </tr>\n    <tr>\n      <th>Make</th>\n      <th></th>\n      <th></th>\n    </tr>\n  </thead>\n  <tbody>\n    <tr>\n      <th>BMW</th>\n      <td>11179.000000</td>\n      <td>5.00</td>\n    </tr>\n    <tr>\n      <th>Honda</th>\n      <td>62778.333333</td>\n      <td>4.00</td>\n    </tr>\n    <tr>\n      <th>Nissan</th>\n      <td>122347.500000</td>\n      <td>4.00</td>\n    </tr>\n    <tr>\n      <th>Toyota</th>\n      <td>85451.250000</td>\n      <td>3.75</td>\n    </tr>\n  </tbody>\n</table>\n</div>"
     },
     "metadata": {},
     "execution_count": 38
    }
   ],
   "source": [
    "# Group columns of the car sales DataFrame by the Make column and find the average\n",
    "car_sales.groupby(car_sales.Make).mean()"
   ]
  },
  {
   "cell_type": "code",
   "execution_count": 25,
   "metadata": {},
   "outputs": [],
   "source": [
    "# Import Matplotlib and create a plot of the Odometer column\n",
    "# Don't forget to use %matplotlib inline\n",
    "import matplotlib as plt\n"
   ]
  },
  {
   "cell_type": "code",
   "execution_count": 39,
   "metadata": {},
   "outputs": [
    {
     "output_type": "execute_result",
     "data": {
      "text/plain": [
       "<AxesSubplot:>"
      ]
     },
     "metadata": {},
     "execution_count": 39
    },
    {
     "output_type": "display_data",
     "data": {
      "text/plain": "<Figure size 432x288 with 1 Axes>",
      "image/svg+xml": "<?xml version=\"1.0\" encoding=\"utf-8\" standalone=\"no\"?>\r\n<!DOCTYPE svg PUBLIC \"-//W3C//DTD SVG 1.1//EN\"\r\n  \"http://www.w3.org/Graphics/SVG/1.1/DTD/svg11.dtd\">\r\n<!-- Created with matplotlib (https://matplotlib.org/) -->\r\n<svg height=\"248.518125pt\" version=\"1.1\" viewBox=\"0 0 372.103125 248.518125\" width=\"372.103125pt\" xmlns=\"http://www.w3.org/2000/svg\" xmlns:xlink=\"http://www.w3.org/1999/xlink\">\r\n <metadata>\r\n  <rdf:RDF xmlns:cc=\"http://creativecommons.org/ns#\" xmlns:dc=\"http://purl.org/dc/elements/1.1/\" xmlns:rdf=\"http://www.w3.org/1999/02/22-rdf-syntax-ns#\">\r\n   <cc:Work>\r\n    <dc:type rdf:resource=\"http://purl.org/dc/dcmitype/StillImage\"/>\r\n    <dc:date>2021-04-13T21:47:45.721650</dc:date>\r\n    <dc:format>image/svg+xml</dc:format>\r\n    <dc:creator>\r\n     <cc:Agent>\r\n      <dc:title>Matplotlib v3.3.2, https://matplotlib.org/</dc:title>\r\n     </cc:Agent>\r\n    </dc:creator>\r\n   </cc:Work>\r\n  </rdf:RDF>\r\n </metadata>\r\n <defs>\r\n  <style type=\"text/css\">*{stroke-linecap:butt;stroke-linejoin:round;}</style>\r\n </defs>\r\n <g id=\"figure_1\">\r\n  <g id=\"patch_1\">\r\n   <path d=\"M 0 248.518125 \r\nL 372.103125 248.518125 \r\nL 372.103125 0 \r\nL 0 0 \r\nz\r\n\" style=\"fill:none;\"/>\r\n  </g>\r\n  <g id=\"axes_1\">\r\n   <g id=\"patch_2\">\r\n    <path d=\"M 30.103125 224.64 \r\nL 364.903125 224.64 \r\nL 364.903125 7.2 \r\nL 30.103125 7.2 \r\nz\r\n\" style=\"fill:#ffffff;\"/>\r\n   </g>\r\n   <g id=\"patch_3\">\r\n    <path clip-path=\"url(#p54101a5ec3)\" d=\"M 45.321307 224.64 \r\nL 75.75767 224.64 \r\nL 75.75767 155.611429 \r\nL 45.321307 155.611429 \r\nz\r\n\" style=\"fill:#1f77b4;\"/>\r\n   </g>\r\n   <g id=\"patch_4\">\r\n    <path clip-path=\"url(#p54101a5ec3)\" d=\"M 75.75767 224.64 \r\nL 106.194034 224.64 \r\nL 106.194034 17.554286 \r\nL 75.75767 17.554286 \r\nz\r\n\" style=\"fill:#1f77b4;\"/>\r\n   </g>\r\n   <g id=\"patch_5\">\r\n    <path clip-path=\"url(#p54101a5ec3)\" d=\"M 106.194034 224.64 \r\nL 136.630398 224.64 \r\nL 136.630398 86.582857 \r\nL 106.194034 86.582857 \r\nz\r\n\" style=\"fill:#1f77b4;\"/>\r\n   </g>\r\n   <g id=\"patch_6\">\r\n    <path clip-path=\"url(#p54101a5ec3)\" d=\"M 136.630398 224.64 \r\nL 167.066761 224.64 \r\nL 167.066761 155.611429 \r\nL 136.630398 155.611429 \r\nz\r\n\" style=\"fill:#1f77b4;\"/>\r\n   </g>\r\n   <g id=\"patch_7\">\r\n    <path clip-path=\"url(#p54101a5ec3)\" d=\"M 167.066761 224.64 \r\nL 197.503125 224.64 \r\nL 197.503125 155.611429 \r\nL 167.066761 155.611429 \r\nz\r\n\" style=\"fill:#1f77b4;\"/>\r\n   </g>\r\n   <g id=\"patch_8\">\r\n    <path clip-path=\"url(#p54101a5ec3)\" d=\"M 197.503125 224.64 \r\nL 227.939489 224.64 \r\nL 227.939489 224.64 \r\nL 197.503125 224.64 \r\nz\r\n\" style=\"fill:#1f77b4;\"/>\r\n   </g>\r\n   <g id=\"patch_9\">\r\n    <path clip-path=\"url(#p54101a5ec3)\" d=\"M 227.939489 224.64 \r\nL 258.375852 224.64 \r\nL 258.375852 155.611429 \r\nL 227.939489 155.611429 \r\nz\r\n\" style=\"fill:#1f77b4;\"/>\r\n   </g>\r\n   <g id=\"patch_10\">\r\n    <path clip-path=\"url(#p54101a5ec3)\" d=\"M 258.375852 224.64 \r\nL 288.812216 224.64 \r\nL 288.812216 224.64 \r\nL 258.375852 224.64 \r\nz\r\n\" style=\"fill:#1f77b4;\"/>\r\n   </g>\r\n   <g id=\"patch_11\">\r\n    <path clip-path=\"url(#p54101a5ec3)\" d=\"M 288.812216 224.64 \r\nL 319.24858 224.64 \r\nL 319.24858 224.64 \r\nL 288.812216 224.64 \r\nz\r\n\" style=\"fill:#1f77b4;\"/>\r\n   </g>\r\n   <g id=\"patch_12\">\r\n    <path clip-path=\"url(#p54101a5ec3)\" d=\"M 319.24858 224.64 \r\nL 349.684943 224.64 \r\nL 349.684943 155.611429 \r\nL 319.24858 155.611429 \r\nz\r\n\" style=\"fill:#1f77b4;\"/>\r\n   </g>\r\n   <g id=\"matplotlib.axis_1\">\r\n    <g id=\"xtick_1\">\r\n     <g id=\"line2d_1\">\r\n      <path clip-path=\"url(#p54101a5ec3)\" d=\"M 66.154771 224.64 \r\nL 66.154771 7.2 \r\n\" style=\"fill:none;stroke:#b0b0b0;stroke-linecap:square;stroke-width:0.8;\"/>\r\n     </g>\r\n     <g id=\"line2d_2\">\r\n      <defs>\r\n       <path d=\"M 0 0 \r\nL 0 3.5 \r\n\" id=\"m4027d92287\" style=\"stroke:#000000;stroke-width:0.8;\"/>\r\n      </defs>\r\n      <g>\r\n       <use style=\"stroke:#000000;stroke-width:0.8;\" x=\"66.154771\" xlink:href=\"#m4027d92287\" y=\"224.64\"/>\r\n      </g>\r\n     </g>\r\n     <g id=\"text_1\">\r\n      <!-- 25000 -->\r\n      <g transform=\"translate(50.248521 239.238437)scale(0.1 -0.1)\">\r\n       <defs>\r\n        <path d=\"M 19.1875 8.296875 \r\nL 53.609375 8.296875 \r\nL 53.609375 0 \r\nL 7.328125 0 \r\nL 7.328125 8.296875 \r\nQ 12.9375 14.109375 22.625 23.890625 \r\nQ 32.328125 33.6875 34.8125 36.53125 \r\nQ 39.546875 41.84375 41.421875 45.53125 \r\nQ 43.3125 49.21875 43.3125 52.78125 \r\nQ 43.3125 58.59375 39.234375 62.25 \r\nQ 35.15625 65.921875 28.609375 65.921875 \r\nQ 23.96875 65.921875 18.8125 64.3125 \r\nQ 13.671875 62.703125 7.8125 59.421875 \r\nL 7.8125 69.390625 \r\nQ 13.765625 71.78125 18.9375 73 \r\nQ 24.125 74.21875 28.421875 74.21875 \r\nQ 39.75 74.21875 46.484375 68.546875 \r\nQ 53.21875 62.890625 53.21875 53.421875 \r\nQ 53.21875 48.921875 51.53125 44.890625 \r\nQ 49.859375 40.875 45.40625 35.40625 \r\nQ 44.1875 33.984375 37.640625 27.21875 \r\nQ 31.109375 20.453125 19.1875 8.296875 \r\nz\r\n\" id=\"DejaVuSans-50\"/>\r\n        <path d=\"M 10.796875 72.90625 \r\nL 49.515625 72.90625 \r\nL 49.515625 64.59375 \r\nL 19.828125 64.59375 \r\nL 19.828125 46.734375 \r\nQ 21.96875 47.46875 24.109375 47.828125 \r\nQ 26.265625 48.1875 28.421875 48.1875 \r\nQ 40.625 48.1875 47.75 41.5 \r\nQ 54.890625 34.8125 54.890625 23.390625 \r\nQ 54.890625 11.625 47.5625 5.09375 \r\nQ 40.234375 -1.421875 26.90625 -1.421875 \r\nQ 22.3125 -1.421875 17.546875 -0.640625 \r\nQ 12.796875 0.140625 7.71875 1.703125 \r\nL 7.71875 11.625 \r\nQ 12.109375 9.234375 16.796875 8.0625 \r\nQ 21.484375 6.890625 26.703125 6.890625 \r\nQ 35.15625 6.890625 40.078125 11.328125 \r\nQ 45.015625 15.765625 45.015625 23.390625 \r\nQ 45.015625 31 40.078125 35.4375 \r\nQ 35.15625 39.890625 26.703125 39.890625 \r\nQ 22.75 39.890625 18.8125 39.015625 \r\nQ 14.890625 38.140625 10.796875 36.28125 \r\nz\r\n\" id=\"DejaVuSans-53\"/>\r\n        <path d=\"M 31.78125 66.40625 \r\nQ 24.171875 66.40625 20.328125 58.90625 \r\nQ 16.5 51.421875 16.5 36.375 \r\nQ 16.5 21.390625 20.328125 13.890625 \r\nQ 24.171875 6.390625 31.78125 6.390625 \r\nQ 39.453125 6.390625 43.28125 13.890625 \r\nQ 47.125 21.390625 47.125 36.375 \r\nQ 47.125 51.421875 43.28125 58.90625 \r\nQ 39.453125 66.40625 31.78125 66.40625 \r\nz\r\nM 31.78125 74.21875 \r\nQ 44.046875 74.21875 50.515625 64.515625 \r\nQ 56.984375 54.828125 56.984375 36.375 \r\nQ 56.984375 17.96875 50.515625 8.265625 \r\nQ 44.046875 -1.421875 31.78125 -1.421875 \r\nQ 19.53125 -1.421875 13.0625 8.265625 \r\nQ 6.59375 17.96875 6.59375 36.375 \r\nQ 6.59375 54.828125 13.0625 64.515625 \r\nQ 19.53125 74.21875 31.78125 74.21875 \r\nz\r\n\" id=\"DejaVuSans-48\"/>\r\n       </defs>\r\n       <use xlink:href=\"#DejaVuSans-50\"/>\r\n       <use x=\"63.623047\" xlink:href=\"#DejaVuSans-53\"/>\r\n       <use x=\"127.246094\" xlink:href=\"#DejaVuSans-48\"/>\r\n       <use x=\"190.869141\" xlink:href=\"#DejaVuSans-48\"/>\r\n       <use x=\"254.492188\" xlink:href=\"#DejaVuSans-48\"/>\r\n      </g>\r\n     </g>\r\n    </g>\r\n    <g id=\"xtick_2\">\r\n     <g id=\"line2d_3\">\r\n      <path clip-path=\"url(#p54101a5ec3)\" d=\"M 103.839209 224.64 \r\nL 103.839209 7.2 \r\n\" style=\"fill:none;stroke:#b0b0b0;stroke-linecap:square;stroke-width:0.8;\"/>\r\n     </g>\r\n     <g id=\"line2d_4\">\r\n      <g>\r\n       <use style=\"stroke:#000000;stroke-width:0.8;\" x=\"103.839209\" xlink:href=\"#m4027d92287\" y=\"224.64\"/>\r\n      </g>\r\n     </g>\r\n     <g id=\"text_2\">\r\n      <!-- 50000 -->\r\n      <g transform=\"translate(87.932959 239.238437)scale(0.1 -0.1)\">\r\n       <use xlink:href=\"#DejaVuSans-53\"/>\r\n       <use x=\"63.623047\" xlink:href=\"#DejaVuSans-48\"/>\r\n       <use x=\"127.246094\" xlink:href=\"#DejaVuSans-48\"/>\r\n       <use x=\"190.869141\" xlink:href=\"#DejaVuSans-48\"/>\r\n       <use x=\"254.492188\" xlink:href=\"#DejaVuSans-48\"/>\r\n      </g>\r\n     </g>\r\n    </g>\r\n    <g id=\"xtick_3\">\r\n     <g id=\"line2d_5\">\r\n      <path clip-path=\"url(#p54101a5ec3)\" d=\"M 141.523647 224.64 \r\nL 141.523647 7.2 \r\n\" style=\"fill:none;stroke:#b0b0b0;stroke-linecap:square;stroke-width:0.8;\"/>\r\n     </g>\r\n     <g id=\"line2d_6\">\r\n      <g>\r\n       <use style=\"stroke:#000000;stroke-width:0.8;\" x=\"141.523647\" xlink:href=\"#m4027d92287\" y=\"224.64\"/>\r\n      </g>\r\n     </g>\r\n     <g id=\"text_3\">\r\n      <!-- 75000 -->\r\n      <g transform=\"translate(125.617397 239.238437)scale(0.1 -0.1)\">\r\n       <defs>\r\n        <path d=\"M 8.203125 72.90625 \r\nL 55.078125 72.90625 \r\nL 55.078125 68.703125 \r\nL 28.609375 0 \r\nL 18.3125 0 \r\nL 43.21875 64.59375 \r\nL 8.203125 64.59375 \r\nz\r\n\" id=\"DejaVuSans-55\"/>\r\n       </defs>\r\n       <use xlink:href=\"#DejaVuSans-55\"/>\r\n       <use x=\"63.623047\" xlink:href=\"#DejaVuSans-53\"/>\r\n       <use x=\"127.246094\" xlink:href=\"#DejaVuSans-48\"/>\r\n       <use x=\"190.869141\" xlink:href=\"#DejaVuSans-48\"/>\r\n       <use x=\"254.492188\" xlink:href=\"#DejaVuSans-48\"/>\r\n      </g>\r\n     </g>\r\n    </g>\r\n    <g id=\"xtick_4\">\r\n     <g id=\"line2d_7\">\r\n      <path clip-path=\"url(#p54101a5ec3)\" d=\"M 179.208084 224.64 \r\nL 179.208084 7.2 \r\n\" style=\"fill:none;stroke:#b0b0b0;stroke-linecap:square;stroke-width:0.8;\"/>\r\n     </g>\r\n     <g id=\"line2d_8\">\r\n      <g>\r\n       <use style=\"stroke:#000000;stroke-width:0.8;\" x=\"179.208084\" xlink:href=\"#m4027d92287\" y=\"224.64\"/>\r\n      </g>\r\n     </g>\r\n     <g id=\"text_4\">\r\n      <!-- 100000 -->\r\n      <g transform=\"translate(160.120584 239.238437)scale(0.1 -0.1)\">\r\n       <defs>\r\n        <path d=\"M 12.40625 8.296875 \r\nL 28.515625 8.296875 \r\nL 28.515625 63.921875 \r\nL 10.984375 60.40625 \r\nL 10.984375 69.390625 \r\nL 28.421875 72.90625 \r\nL 38.28125 72.90625 \r\nL 38.28125 8.296875 \r\nL 54.390625 8.296875 \r\nL 54.390625 0 \r\nL 12.40625 0 \r\nz\r\n\" id=\"DejaVuSans-49\"/>\r\n       </defs>\r\n       <use xlink:href=\"#DejaVuSans-49\"/>\r\n       <use x=\"63.623047\" xlink:href=\"#DejaVuSans-48\"/>\r\n       <use x=\"127.246094\" xlink:href=\"#DejaVuSans-48\"/>\r\n       <use x=\"190.869141\" xlink:href=\"#DejaVuSans-48\"/>\r\n       <use x=\"254.492188\" xlink:href=\"#DejaVuSans-48\"/>\r\n       <use x=\"318.115234\" xlink:href=\"#DejaVuSans-48\"/>\r\n      </g>\r\n     </g>\r\n    </g>\r\n    <g id=\"xtick_5\">\r\n     <g id=\"line2d_9\">\r\n      <path clip-path=\"url(#p54101a5ec3)\" d=\"M 216.892522 224.64 \r\nL 216.892522 7.2 \r\n\" style=\"fill:none;stroke:#b0b0b0;stroke-linecap:square;stroke-width:0.8;\"/>\r\n     </g>\r\n     <g id=\"line2d_10\">\r\n      <g>\r\n       <use style=\"stroke:#000000;stroke-width:0.8;\" x=\"216.892522\" xlink:href=\"#m4027d92287\" y=\"224.64\"/>\r\n      </g>\r\n     </g>\r\n     <g id=\"text_5\">\r\n      <!-- 125000 -->\r\n      <g transform=\"translate(197.805022 239.238437)scale(0.1 -0.1)\">\r\n       <use xlink:href=\"#DejaVuSans-49\"/>\r\n       <use x=\"63.623047\" xlink:href=\"#DejaVuSans-50\"/>\r\n       <use x=\"127.246094\" xlink:href=\"#DejaVuSans-53\"/>\r\n       <use x=\"190.869141\" xlink:href=\"#DejaVuSans-48\"/>\r\n       <use x=\"254.492188\" xlink:href=\"#DejaVuSans-48\"/>\r\n       <use x=\"318.115234\" xlink:href=\"#DejaVuSans-48\"/>\r\n      </g>\r\n     </g>\r\n    </g>\r\n    <g id=\"xtick_6\">\r\n     <g id=\"line2d_11\">\r\n      <path clip-path=\"url(#p54101a5ec3)\" d=\"M 254.576959 224.64 \r\nL 254.576959 7.2 \r\n\" style=\"fill:none;stroke:#b0b0b0;stroke-linecap:square;stroke-width:0.8;\"/>\r\n     </g>\r\n     <g id=\"line2d_12\">\r\n      <g>\r\n       <use style=\"stroke:#000000;stroke-width:0.8;\" x=\"254.576959\" xlink:href=\"#m4027d92287\" y=\"224.64\"/>\r\n      </g>\r\n     </g>\r\n     <g id=\"text_6\">\r\n      <!-- 150000 -->\r\n      <g transform=\"translate(235.489459 239.238437)scale(0.1 -0.1)\">\r\n       <use xlink:href=\"#DejaVuSans-49\"/>\r\n       <use x=\"63.623047\" xlink:href=\"#DejaVuSans-53\"/>\r\n       <use x=\"127.246094\" xlink:href=\"#DejaVuSans-48\"/>\r\n       <use x=\"190.869141\" xlink:href=\"#DejaVuSans-48\"/>\r\n       <use x=\"254.492188\" xlink:href=\"#DejaVuSans-48\"/>\r\n       <use x=\"318.115234\" xlink:href=\"#DejaVuSans-48\"/>\r\n      </g>\r\n     </g>\r\n    </g>\r\n    <g id=\"xtick_7\">\r\n     <g id=\"line2d_13\">\r\n      <path clip-path=\"url(#p54101a5ec3)\" d=\"M 292.261397 224.64 \r\nL 292.261397 7.2 \r\n\" style=\"fill:none;stroke:#b0b0b0;stroke-linecap:square;stroke-width:0.8;\"/>\r\n     </g>\r\n     <g id=\"line2d_14\">\r\n      <g>\r\n       <use style=\"stroke:#000000;stroke-width:0.8;\" x=\"292.261397\" xlink:href=\"#m4027d92287\" y=\"224.64\"/>\r\n      </g>\r\n     </g>\r\n     <g id=\"text_7\">\r\n      <!-- 175000 -->\r\n      <g transform=\"translate(273.173897 239.238437)scale(0.1 -0.1)\">\r\n       <use xlink:href=\"#DejaVuSans-49\"/>\r\n       <use x=\"63.623047\" xlink:href=\"#DejaVuSans-55\"/>\r\n       <use x=\"127.246094\" xlink:href=\"#DejaVuSans-53\"/>\r\n       <use x=\"190.869141\" xlink:href=\"#DejaVuSans-48\"/>\r\n       <use x=\"254.492188\" xlink:href=\"#DejaVuSans-48\"/>\r\n       <use x=\"318.115234\" xlink:href=\"#DejaVuSans-48\"/>\r\n      </g>\r\n     </g>\r\n    </g>\r\n    <g id=\"xtick_8\">\r\n     <g id=\"line2d_15\">\r\n      <path clip-path=\"url(#p54101a5ec3)\" d=\"M 329.945835 224.64 \r\nL 329.945835 7.2 \r\n\" style=\"fill:none;stroke:#b0b0b0;stroke-linecap:square;stroke-width:0.8;\"/>\r\n     </g>\r\n     <g id=\"line2d_16\">\r\n      <g>\r\n       <use style=\"stroke:#000000;stroke-width:0.8;\" x=\"329.945835\" xlink:href=\"#m4027d92287\" y=\"224.64\"/>\r\n      </g>\r\n     </g>\r\n     <g id=\"text_8\">\r\n      <!-- 200000 -->\r\n      <g transform=\"translate(310.858335 239.238437)scale(0.1 -0.1)\">\r\n       <use xlink:href=\"#DejaVuSans-50\"/>\r\n       <use x=\"63.623047\" xlink:href=\"#DejaVuSans-48\"/>\r\n       <use x=\"127.246094\" xlink:href=\"#DejaVuSans-48\"/>\r\n       <use x=\"190.869141\" xlink:href=\"#DejaVuSans-48\"/>\r\n       <use x=\"254.492188\" xlink:href=\"#DejaVuSans-48\"/>\r\n       <use x=\"318.115234\" xlink:href=\"#DejaVuSans-48\"/>\r\n      </g>\r\n     </g>\r\n    </g>\r\n   </g>\r\n   <g id=\"matplotlib.axis_2\">\r\n    <g id=\"ytick_1\">\r\n     <g id=\"line2d_17\">\r\n      <path clip-path=\"url(#p54101a5ec3)\" d=\"M 30.103125 224.64 \r\nL 364.903125 224.64 \r\n\" style=\"fill:none;stroke:#b0b0b0;stroke-linecap:square;stroke-width:0.8;\"/>\r\n     </g>\r\n     <g id=\"line2d_18\">\r\n      <defs>\r\n       <path d=\"M 0 0 \r\nL -3.5 0 \r\n\" id=\"me7f85fcbc2\" style=\"stroke:#000000;stroke-width:0.8;\"/>\r\n      </defs>\r\n      <g>\r\n       <use style=\"stroke:#000000;stroke-width:0.8;\" x=\"30.103125\" xlink:href=\"#me7f85fcbc2\" y=\"224.64\"/>\r\n      </g>\r\n     </g>\r\n     <g id=\"text_9\">\r\n      <!-- 0.0 -->\r\n      <g transform=\"translate(7.2 228.439219)scale(0.1 -0.1)\">\r\n       <defs>\r\n        <path d=\"M 10.6875 12.40625 \r\nL 21 12.40625 \r\nL 21 0 \r\nL 10.6875 0 \r\nz\r\n\" id=\"DejaVuSans-46\"/>\r\n       </defs>\r\n       <use xlink:href=\"#DejaVuSans-48\"/>\r\n       <use x=\"63.623047\" xlink:href=\"#DejaVuSans-46\"/>\r\n       <use x=\"95.410156\" xlink:href=\"#DejaVuSans-48\"/>\r\n      </g>\r\n     </g>\r\n    </g>\r\n    <g id=\"ytick_2\">\r\n     <g id=\"line2d_19\">\r\n      <path clip-path=\"url(#p54101a5ec3)\" d=\"M 30.103125 190.125714 \r\nL 364.903125 190.125714 \r\n\" style=\"fill:none;stroke:#b0b0b0;stroke-linecap:square;stroke-width:0.8;\"/>\r\n     </g>\r\n     <g id=\"line2d_20\">\r\n      <g>\r\n       <use style=\"stroke:#000000;stroke-width:0.8;\" x=\"30.103125\" xlink:href=\"#me7f85fcbc2\" y=\"190.125714\"/>\r\n      </g>\r\n     </g>\r\n     <g id=\"text_10\">\r\n      <!-- 0.5 -->\r\n      <g transform=\"translate(7.2 193.924933)scale(0.1 -0.1)\">\r\n       <use xlink:href=\"#DejaVuSans-48\"/>\r\n       <use x=\"63.623047\" xlink:href=\"#DejaVuSans-46\"/>\r\n       <use x=\"95.410156\" xlink:href=\"#DejaVuSans-53\"/>\r\n      </g>\r\n     </g>\r\n    </g>\r\n    <g id=\"ytick_3\">\r\n     <g id=\"line2d_21\">\r\n      <path clip-path=\"url(#p54101a5ec3)\" d=\"M 30.103125 155.611429 \r\nL 364.903125 155.611429 \r\n\" style=\"fill:none;stroke:#b0b0b0;stroke-linecap:square;stroke-width:0.8;\"/>\r\n     </g>\r\n     <g id=\"line2d_22\">\r\n      <g>\r\n       <use style=\"stroke:#000000;stroke-width:0.8;\" x=\"30.103125\" xlink:href=\"#me7f85fcbc2\" y=\"155.611429\"/>\r\n      </g>\r\n     </g>\r\n     <g id=\"text_11\">\r\n      <!-- 1.0 -->\r\n      <g transform=\"translate(7.2 159.410647)scale(0.1 -0.1)\">\r\n       <use xlink:href=\"#DejaVuSans-49\"/>\r\n       <use x=\"63.623047\" xlink:href=\"#DejaVuSans-46\"/>\r\n       <use x=\"95.410156\" xlink:href=\"#DejaVuSans-48\"/>\r\n      </g>\r\n     </g>\r\n    </g>\r\n    <g id=\"ytick_4\">\r\n     <g id=\"line2d_23\">\r\n      <path clip-path=\"url(#p54101a5ec3)\" d=\"M 30.103125 121.097143 \r\nL 364.903125 121.097143 \r\n\" style=\"fill:none;stroke:#b0b0b0;stroke-linecap:square;stroke-width:0.8;\"/>\r\n     </g>\r\n     <g id=\"line2d_24\">\r\n      <g>\r\n       <use style=\"stroke:#000000;stroke-width:0.8;\" x=\"30.103125\" xlink:href=\"#me7f85fcbc2\" y=\"121.097143\"/>\r\n      </g>\r\n     </g>\r\n     <g id=\"text_12\">\r\n      <!-- 1.5 -->\r\n      <g transform=\"translate(7.2 124.896362)scale(0.1 -0.1)\">\r\n       <use xlink:href=\"#DejaVuSans-49\"/>\r\n       <use x=\"63.623047\" xlink:href=\"#DejaVuSans-46\"/>\r\n       <use x=\"95.410156\" xlink:href=\"#DejaVuSans-53\"/>\r\n      </g>\r\n     </g>\r\n    </g>\r\n    <g id=\"ytick_5\">\r\n     <g id=\"line2d_25\">\r\n      <path clip-path=\"url(#p54101a5ec3)\" d=\"M 30.103125 86.582857 \r\nL 364.903125 86.582857 \r\n\" style=\"fill:none;stroke:#b0b0b0;stroke-linecap:square;stroke-width:0.8;\"/>\r\n     </g>\r\n     <g id=\"line2d_26\">\r\n      <g>\r\n       <use style=\"stroke:#000000;stroke-width:0.8;\" x=\"30.103125\" xlink:href=\"#me7f85fcbc2\" y=\"86.582857\"/>\r\n      </g>\r\n     </g>\r\n     <g id=\"text_13\">\r\n      <!-- 2.0 -->\r\n      <g transform=\"translate(7.2 90.382076)scale(0.1 -0.1)\">\r\n       <use xlink:href=\"#DejaVuSans-50\"/>\r\n       <use x=\"63.623047\" xlink:href=\"#DejaVuSans-46\"/>\r\n       <use x=\"95.410156\" xlink:href=\"#DejaVuSans-48\"/>\r\n      </g>\r\n     </g>\r\n    </g>\r\n    <g id=\"ytick_6\">\r\n     <g id=\"line2d_27\">\r\n      <path clip-path=\"url(#p54101a5ec3)\" d=\"M 30.103125 52.068571 \r\nL 364.903125 52.068571 \r\n\" style=\"fill:none;stroke:#b0b0b0;stroke-linecap:square;stroke-width:0.8;\"/>\r\n     </g>\r\n     <g id=\"line2d_28\">\r\n      <g>\r\n       <use style=\"stroke:#000000;stroke-width:0.8;\" x=\"30.103125\" xlink:href=\"#me7f85fcbc2\" y=\"52.068571\"/>\r\n      </g>\r\n     </g>\r\n     <g id=\"text_14\">\r\n      <!-- 2.5 -->\r\n      <g transform=\"translate(7.2 55.86779)scale(0.1 -0.1)\">\r\n       <use xlink:href=\"#DejaVuSans-50\"/>\r\n       <use x=\"63.623047\" xlink:href=\"#DejaVuSans-46\"/>\r\n       <use x=\"95.410156\" xlink:href=\"#DejaVuSans-53\"/>\r\n      </g>\r\n     </g>\r\n    </g>\r\n    <g id=\"ytick_7\">\r\n     <g id=\"line2d_29\">\r\n      <path clip-path=\"url(#p54101a5ec3)\" d=\"M 30.103125 17.554286 \r\nL 364.903125 17.554286 \r\n\" style=\"fill:none;stroke:#b0b0b0;stroke-linecap:square;stroke-width:0.8;\"/>\r\n     </g>\r\n     <g id=\"line2d_30\">\r\n      <g>\r\n       <use style=\"stroke:#000000;stroke-width:0.8;\" x=\"30.103125\" xlink:href=\"#me7f85fcbc2\" y=\"17.554286\"/>\r\n      </g>\r\n     </g>\r\n     <g id=\"text_15\">\r\n      <!-- 3.0 -->\r\n      <g transform=\"translate(7.2 21.353504)scale(0.1 -0.1)\">\r\n       <defs>\r\n        <path d=\"M 40.578125 39.3125 \r\nQ 47.65625 37.796875 51.625 33 \r\nQ 55.609375 28.21875 55.609375 21.1875 \r\nQ 55.609375 10.40625 48.1875 4.484375 \r\nQ 40.765625 -1.421875 27.09375 -1.421875 \r\nQ 22.515625 -1.421875 17.65625 -0.515625 \r\nQ 12.796875 0.390625 7.625 2.203125 \r\nL 7.625 11.71875 \r\nQ 11.71875 9.328125 16.59375 8.109375 \r\nQ 21.484375 6.890625 26.8125 6.890625 \r\nQ 36.078125 6.890625 40.9375 10.546875 \r\nQ 45.796875 14.203125 45.796875 21.1875 \r\nQ 45.796875 27.640625 41.28125 31.265625 \r\nQ 36.765625 34.90625 28.71875 34.90625 \r\nL 20.21875 34.90625 \r\nL 20.21875 43.015625 \r\nL 29.109375 43.015625 \r\nQ 36.375 43.015625 40.234375 45.921875 \r\nQ 44.09375 48.828125 44.09375 54.296875 \r\nQ 44.09375 59.90625 40.109375 62.90625 \r\nQ 36.140625 65.921875 28.71875 65.921875 \r\nQ 24.65625 65.921875 20.015625 65.03125 \r\nQ 15.375 64.15625 9.8125 62.3125 \r\nL 9.8125 71.09375 \r\nQ 15.4375 72.65625 20.34375 73.4375 \r\nQ 25.25 74.21875 29.59375 74.21875 \r\nQ 40.828125 74.21875 47.359375 69.109375 \r\nQ 53.90625 64.015625 53.90625 55.328125 \r\nQ 53.90625 49.265625 50.4375 45.09375 \r\nQ 46.96875 40.921875 40.578125 39.3125 \r\nz\r\n\" id=\"DejaVuSans-51\"/>\r\n       </defs>\r\n       <use xlink:href=\"#DejaVuSans-51\"/>\r\n       <use x=\"63.623047\" xlink:href=\"#DejaVuSans-46\"/>\r\n       <use x=\"95.410156\" xlink:href=\"#DejaVuSans-48\"/>\r\n      </g>\r\n     </g>\r\n    </g>\r\n   </g>\r\n   <g id=\"patch_13\">\r\n    <path d=\"M 30.103125 224.64 \r\nL 30.103125 7.2 \r\n\" style=\"fill:none;stroke:#000000;stroke-linecap:square;stroke-linejoin:miter;stroke-width:0.8;\"/>\r\n   </g>\r\n   <g id=\"patch_14\">\r\n    <path d=\"M 364.903125 224.64 \r\nL 364.903125 7.2 \r\n\" style=\"fill:none;stroke:#000000;stroke-linecap:square;stroke-linejoin:miter;stroke-width:0.8;\"/>\r\n   </g>\r\n   <g id=\"patch_15\">\r\n    <path d=\"M 30.103125 224.64 \r\nL 364.903125 224.64 \r\n\" style=\"fill:none;stroke:#000000;stroke-linecap:square;stroke-linejoin:miter;stroke-width:0.8;\"/>\r\n   </g>\r\n   <g id=\"patch_16\">\r\n    <path d=\"M 30.103125 7.2 \r\nL 364.903125 7.2 \r\n\" style=\"fill:none;stroke:#000000;stroke-linecap:square;stroke-linejoin:miter;stroke-width:0.8;\"/>\r\n   </g>\r\n  </g>\r\n </g>\r\n <defs>\r\n  <clipPath id=\"p54101a5ec3\">\r\n   <rect height=\"217.44\" width=\"334.8\" x=\"30.103125\" y=\"7.2\"/>\r\n  </clipPath>\r\n </defs>\r\n</svg>\r\n",
      "image/png": "[encoded data removed]"
     },
     "metadata": {
      "needs_background": "light"
     }
    }
   ],
   "source": [
    "# Create a histogram of the Odometer column using hist()\n",
    "car_sales[\"Odometer (KM)\"].hist()"
   ]
  },
  {
   "cell_type": "code",
   "execution_count": 53,
   "metadata": {},
   "outputs": [
    {
     "output_type": "execute_result",
     "data": {
      "text/plain": [
       "<AxesSubplot:>"
      ]
     },
     "metadata": {},
     "execution_count": 53
    },
    {
     "output_type": "display_data",
     "data": {
      "text/plain": "<Figure size 432x288 with 1 Axes>",
      "image/svg+xml": "<?xml version=\"1.0\" encoding=\"utf-8\" standalone=\"no\"?>\r\n<!DOCTYPE svg PUBLIC \"-//W3C//DTD SVG 1.1//EN\"\r\n  \"http://www.w3.org/Graphics/SVG/1.1/DTD/svg11.dtd\">\r\n<!-- Created with matplotlib (https://matplotlib.org/) -->\r\n<svg height=\"248.518125pt\" version=\"1.1\" viewBox=\"0 0 388.0125 248.518125\" width=\"388.0125pt\" xmlns=\"http://www.w3.org/2000/svg\" xmlns:xlink=\"http://www.w3.org/1999/xlink\">\r\n <metadata>\r\n  <rdf:RDF xmlns:cc=\"http://creativecommons.org/ns#\" xmlns:dc=\"http://purl.org/dc/elements/1.1/\" xmlns:rdf=\"http://www.w3.org/1999/02/22-rdf-syntax-ns#\">\r\n   <cc:Work>\r\n    <dc:type rdf:resource=\"http://purl.org/dc/dcmitype/StillImage\"/>\r\n    <dc:date>2021-04-13T21:50:37.480315</dc:date>\r\n    <dc:format>image/svg+xml</dc:format>\r\n    <dc:creator>\r\n     <cc:Agent>\r\n      <dc:title>Matplotlib v3.3.2, https://matplotlib.org/</dc:title>\r\n     </cc:Agent>\r\n    </dc:creator>\r\n   </cc:Work>\r\n  </rdf:RDF>\r\n </metadata>\r\n <defs>\r\n  <style type=\"text/css\">*{stroke-linecap:butt;stroke-linejoin:round;}</style>\r\n </defs>\r\n <g id=\"figure_1\">\r\n  <g id=\"patch_1\">\r\n   <path d=\"M 0 248.518125 \r\nL 388.0125 248.518125 \r\nL 388.0125 0 \r\nL 0 0 \r\nz\r\n\" style=\"fill:none;\"/>\r\n  </g>\r\n  <g id=\"axes_1\">\r\n   <g id=\"patch_2\">\r\n    <path d=\"M 46.0125 224.64 \r\nL 380.8125 224.64 \r\nL 380.8125 7.2 \r\nL 46.0125 7.2 \r\nz\r\n\" style=\"fill:#ffffff;\"/>\r\n   </g>\r\n   <g id=\"matplotlib.axis_1\">\r\n    <g id=\"xtick_1\">\r\n     <g id=\"line2d_1\">\r\n      <defs>\r\n       <path d=\"M 0 0 \r\nL 0 3.5 \r\n\" id=\"mb96afb8474\" style=\"stroke:#000000;stroke-width:0.8;\"/>\r\n      </defs>\r\n      <g>\r\n       <use style=\"stroke:#000000;stroke-width:0.8;\" x=\"61.230682\" xlink:href=\"#mb96afb8474\" y=\"224.64\"/>\r\n      </g>\r\n     </g>\r\n     <g id=\"text_1\">\r\n      <!-- 0 -->\r\n      <g transform=\"translate(58.049432 239.238437)scale(0.1 -0.1)\">\r\n       <defs>\r\n        <path d=\"M 31.78125 66.40625 \r\nQ 24.171875 66.40625 20.328125 58.90625 \r\nQ 16.5 51.421875 16.5 36.375 \r\nQ 16.5 21.390625 20.328125 13.890625 \r\nQ 24.171875 6.390625 31.78125 6.390625 \r\nQ 39.453125 6.390625 43.28125 13.890625 \r\nQ 47.125 21.390625 47.125 36.375 \r\nQ 47.125 51.421875 43.28125 58.90625 \r\nQ 39.453125 66.40625 31.78125 66.40625 \r\nz\r\nM 31.78125 74.21875 \r\nQ 44.046875 74.21875 50.515625 64.515625 \r\nQ 56.984375 54.828125 56.984375 36.375 \r\nQ 56.984375 17.96875 50.515625 8.265625 \r\nQ 44.046875 -1.421875 31.78125 -1.421875 \r\nQ 19.53125 -1.421875 13.0625 8.265625 \r\nQ 6.59375 17.96875 6.59375 36.375 \r\nQ 6.59375 54.828125 13.0625 64.515625 \r\nQ 19.53125 74.21875 31.78125 74.21875 \r\nz\r\n\" id=\"DejaVuSans-48\"/>\r\n       </defs>\r\n       <use xlink:href=\"#DejaVuSans-48\"/>\r\n      </g>\r\n     </g>\r\n    </g>\r\n    <g id=\"xtick_2\">\r\n     <g id=\"line2d_2\">\r\n      <g>\r\n       <use style=\"stroke:#000000;stroke-width:0.8;\" x=\"128.867045\" xlink:href=\"#mb96afb8474\" y=\"224.64\"/>\r\n      </g>\r\n     </g>\r\n     <g id=\"text_2\">\r\n      <!-- 2 -->\r\n      <g transform=\"translate(125.685795 239.238437)scale(0.1 -0.1)\">\r\n       <defs>\r\n        <path d=\"M 19.1875 8.296875 \r\nL 53.609375 8.296875 \r\nL 53.609375 0 \r\nL 7.328125 0 \r\nL 7.328125 8.296875 \r\nQ 12.9375 14.109375 22.625 23.890625 \r\nQ 32.328125 33.6875 34.8125 36.53125 \r\nQ 39.546875 41.84375 41.421875 45.53125 \r\nQ 43.3125 49.21875 43.3125 52.78125 \r\nQ 43.3125 58.59375 39.234375 62.25 \r\nQ 35.15625 65.921875 28.609375 65.921875 \r\nQ 23.96875 65.921875 18.8125 64.3125 \r\nQ 13.671875 62.703125 7.8125 59.421875 \r\nL 7.8125 69.390625 \r\nQ 13.765625 71.78125 18.9375 73 \r\nQ 24.125 74.21875 28.421875 74.21875 \r\nQ 39.75 74.21875 46.484375 68.546875 \r\nQ 53.21875 62.890625 53.21875 53.421875 \r\nQ 53.21875 48.921875 51.53125 44.890625 \r\nQ 49.859375 40.875 45.40625 35.40625 \r\nQ 44.1875 33.984375 37.640625 27.21875 \r\nQ 31.109375 20.453125 19.1875 8.296875 \r\nz\r\n\" id=\"DejaVuSans-50\"/>\r\n       </defs>\r\n       <use xlink:href=\"#DejaVuSans-50\"/>\r\n      </g>\r\n     </g>\r\n    </g>\r\n    <g id=\"xtick_3\">\r\n     <g id=\"line2d_3\">\r\n      <g>\r\n       <use style=\"stroke:#000000;stroke-width:0.8;\" x=\"196.503409\" xlink:href=\"#mb96afb8474\" y=\"224.64\"/>\r\n      </g>\r\n     </g>\r\n     <g id=\"text_3\">\r\n      <!-- 4 -->\r\n      <g transform=\"translate(193.322159 239.238437)scale(0.1 -0.1)\">\r\n       <defs>\r\n        <path d=\"M 37.796875 64.3125 \r\nL 12.890625 25.390625 \r\nL 37.796875 25.390625 \r\nz\r\nM 35.203125 72.90625 \r\nL 47.609375 72.90625 \r\nL 47.609375 25.390625 \r\nL 58.015625 25.390625 \r\nL 58.015625 17.1875 \r\nL 47.609375 17.1875 \r\nL 47.609375 0 \r\nL 37.796875 0 \r\nL 37.796875 17.1875 \r\nL 4.890625 17.1875 \r\nL 4.890625 26.703125 \r\nz\r\n\" id=\"DejaVuSans-52\"/>\r\n       </defs>\r\n       <use xlink:href=\"#DejaVuSans-52\"/>\r\n      </g>\r\n     </g>\r\n    </g>\r\n    <g id=\"xtick_4\">\r\n     <g id=\"line2d_4\">\r\n      <g>\r\n       <use style=\"stroke:#000000;stroke-width:0.8;\" x=\"264.139773\" xlink:href=\"#mb96afb8474\" y=\"224.64\"/>\r\n      </g>\r\n     </g>\r\n     <g id=\"text_4\">\r\n      <!-- 6 -->\r\n      <g transform=\"translate(260.958523 239.238437)scale(0.1 -0.1)\">\r\n       <defs>\r\n        <path d=\"M 33.015625 40.375 \r\nQ 26.375 40.375 22.484375 35.828125 \r\nQ 18.609375 31.296875 18.609375 23.390625 \r\nQ 18.609375 15.53125 22.484375 10.953125 \r\nQ 26.375 6.390625 33.015625 6.390625 \r\nQ 39.65625 6.390625 43.53125 10.953125 \r\nQ 47.40625 15.53125 47.40625 23.390625 \r\nQ 47.40625 31.296875 43.53125 35.828125 \r\nQ 39.65625 40.375 33.015625 40.375 \r\nz\r\nM 52.59375 71.296875 \r\nL 52.59375 62.3125 \r\nQ 48.875 64.0625 45.09375 64.984375 \r\nQ 41.3125 65.921875 37.59375 65.921875 \r\nQ 27.828125 65.921875 22.671875 59.328125 \r\nQ 17.53125 52.734375 16.796875 39.40625 \r\nQ 19.671875 43.65625 24.015625 45.921875 \r\nQ 28.375 48.1875 33.59375 48.1875 \r\nQ 44.578125 48.1875 50.953125 41.515625 \r\nQ 57.328125 34.859375 57.328125 23.390625 \r\nQ 57.328125 12.15625 50.6875 5.359375 \r\nQ 44.046875 -1.421875 33.015625 -1.421875 \r\nQ 20.359375 -1.421875 13.671875 8.265625 \r\nQ 6.984375 17.96875 6.984375 36.375 \r\nQ 6.984375 53.65625 15.1875 63.9375 \r\nQ 23.390625 74.21875 37.203125 74.21875 \r\nQ 40.921875 74.21875 44.703125 73.484375 \r\nQ 48.484375 72.75 52.59375 71.296875 \r\nz\r\n\" id=\"DejaVuSans-54\"/>\r\n       </defs>\r\n       <use xlink:href=\"#DejaVuSans-54\"/>\r\n      </g>\r\n     </g>\r\n    </g>\r\n    <g id=\"xtick_5\">\r\n     <g id=\"line2d_5\">\r\n      <g>\r\n       <use style=\"stroke:#000000;stroke-width:0.8;\" x=\"331.776136\" xlink:href=\"#mb96afb8474\" y=\"224.64\"/>\r\n      </g>\r\n     </g>\r\n     <g id=\"text_5\">\r\n      <!-- 8 -->\r\n      <g transform=\"translate(328.594886 239.238437)scale(0.1 -0.1)\">\r\n       <defs>\r\n        <path d=\"M 31.78125 34.625 \r\nQ 24.75 34.625 20.71875 30.859375 \r\nQ 16.703125 27.09375 16.703125 20.515625 \r\nQ 16.703125 13.921875 20.71875 10.15625 \r\nQ 24.75 6.390625 31.78125 6.390625 \r\nQ 38.8125 6.390625 42.859375 10.171875 \r\nQ 46.921875 13.96875 46.921875 20.515625 \r\nQ 46.921875 27.09375 42.890625 30.859375 \r\nQ 38.875 34.625 31.78125 34.625 \r\nz\r\nM 21.921875 38.8125 \r\nQ 15.578125 40.375 12.03125 44.71875 \r\nQ 8.5 49.078125 8.5 55.328125 \r\nQ 8.5 64.0625 14.71875 69.140625 \r\nQ 20.953125 74.21875 31.78125 74.21875 \r\nQ 42.671875 74.21875 48.875 69.140625 \r\nQ 55.078125 64.0625 55.078125 55.328125 \r\nQ 55.078125 49.078125 51.53125 44.71875 \r\nQ 48 40.375 41.703125 38.8125 \r\nQ 48.828125 37.15625 52.796875 32.3125 \r\nQ 56.78125 27.484375 56.78125 20.515625 \r\nQ 56.78125 9.90625 50.3125 4.234375 \r\nQ 43.84375 -1.421875 31.78125 -1.421875 \r\nQ 19.734375 -1.421875 13.25 4.234375 \r\nQ 6.78125 9.90625 6.78125 20.515625 \r\nQ 6.78125 27.484375 10.78125 32.3125 \r\nQ 14.796875 37.15625 21.921875 38.8125 \r\nz\r\nM 18.3125 54.390625 \r\nQ 18.3125 48.734375 21.84375 45.5625 \r\nQ 25.390625 42.390625 31.78125 42.390625 \r\nQ 38.140625 42.390625 41.71875 45.5625 \r\nQ 45.3125 48.734375 45.3125 54.390625 \r\nQ 45.3125 60.0625 41.71875 63.234375 \r\nQ 38.140625 66.40625 31.78125 66.40625 \r\nQ 25.390625 66.40625 21.84375 63.234375 \r\nQ 18.3125 60.0625 18.3125 54.390625 \r\nz\r\n\" id=\"DejaVuSans-56\"/>\r\n       </defs>\r\n       <use xlink:href=\"#DejaVuSans-56\"/>\r\n      </g>\r\n     </g>\r\n    </g>\r\n   </g>\r\n   <g id=\"matplotlib.axis_2\">\r\n    <g id=\"ytick_1\">\r\n     <g id=\"line2d_6\">\r\n      <defs>\r\n       <path d=\"M 0 0 \r\nL -3.5 0 \r\n\" id=\"m9900e3f339\" style=\"stroke:#000000;stroke-width:0.8;\"/>\r\n      </defs>\r\n      <g>\r\n       <use style=\"stroke:#000000;stroke-width:0.8;\" x=\"46.0125\" xlink:href=\"#m9900e3f339\" y=\"198.728845\"/>\r\n      </g>\r\n     </g>\r\n     <g id=\"text_6\">\r\n      <!-- 5000 -->\r\n      <g transform=\"translate(13.5625 202.528064)scale(0.1 -0.1)\">\r\n       <defs>\r\n        <path d=\"M 10.796875 72.90625 \r\nL 49.515625 72.90625 \r\nL 49.515625 64.59375 \r\nL 19.828125 64.59375 \r\nL 19.828125 46.734375 \r\nQ 21.96875 47.46875 24.109375 47.828125 \r\nQ 26.265625 48.1875 28.421875 48.1875 \r\nQ 40.625 48.1875 47.75 41.5 \r\nQ 54.890625 34.8125 54.890625 23.390625 \r\nQ 54.890625 11.625 47.5625 5.09375 \r\nQ 40.234375 -1.421875 26.90625 -1.421875 \r\nQ 22.3125 -1.421875 17.546875 -0.640625 \r\nQ 12.796875 0.140625 7.71875 1.703125 \r\nL 7.71875 11.625 \r\nQ 12.109375 9.234375 16.796875 8.0625 \r\nQ 21.484375 6.890625 26.703125 6.890625 \r\nQ 35.15625 6.890625 40.078125 11.328125 \r\nQ 45.015625 15.765625 45.015625 23.390625 \r\nQ 45.015625 31 40.078125 35.4375 \r\nQ 35.15625 39.890625 26.703125 39.890625 \r\nQ 22.75 39.890625 18.8125 39.015625 \r\nQ 14.890625 38.140625 10.796875 36.28125 \r\nz\r\n\" id=\"DejaVuSans-53\"/>\r\n       </defs>\r\n       <use xlink:href=\"#DejaVuSans-53\"/>\r\n       <use x=\"63.623047\" xlink:href=\"#DejaVuSans-48\"/>\r\n       <use x=\"127.246094\" xlink:href=\"#DejaVuSans-48\"/>\r\n       <use x=\"190.869141\" xlink:href=\"#DejaVuSans-48\"/>\r\n      </g>\r\n     </g>\r\n    </g>\r\n    <g id=\"ytick_2\">\r\n     <g id=\"line2d_7\">\r\n      <g>\r\n       <use style=\"stroke:#000000;stroke-width:0.8;\" x=\"46.0125\" xlink:href=\"#m9900e3f339\" y=\"172.016314\"/>\r\n      </g>\r\n     </g>\r\n     <g id=\"text_7\">\r\n      <!-- 7500 -->\r\n      <g transform=\"translate(13.5625 175.815533)scale(0.1 -0.1)\">\r\n       <defs>\r\n        <path d=\"M 8.203125 72.90625 \r\nL 55.078125 72.90625 \r\nL 55.078125 68.703125 \r\nL 28.609375 0 \r\nL 18.3125 0 \r\nL 43.21875 64.59375 \r\nL 8.203125 64.59375 \r\nz\r\n\" id=\"DejaVuSans-55\"/>\r\n       </defs>\r\n       <use xlink:href=\"#DejaVuSans-55\"/>\r\n       <use x=\"63.623047\" xlink:href=\"#DejaVuSans-53\"/>\r\n       <use x=\"127.246094\" xlink:href=\"#DejaVuSans-48\"/>\r\n       <use x=\"190.869141\" xlink:href=\"#DejaVuSans-48\"/>\r\n      </g>\r\n     </g>\r\n    </g>\r\n    <g id=\"ytick_3\">\r\n     <g id=\"line2d_8\">\r\n      <g>\r\n       <use style=\"stroke:#000000;stroke-width:0.8;\" x=\"46.0125\" xlink:href=\"#m9900e3f339\" y=\"145.303784\"/>\r\n      </g>\r\n     </g>\r\n     <g id=\"text_8\">\r\n      <!-- 10000 -->\r\n      <g transform=\"translate(7.2 149.103003)scale(0.1 -0.1)\">\r\n       <defs>\r\n        <path d=\"M 12.40625 8.296875 \r\nL 28.515625 8.296875 \r\nL 28.515625 63.921875 \r\nL 10.984375 60.40625 \r\nL 10.984375 69.390625 \r\nL 28.421875 72.90625 \r\nL 38.28125 72.90625 \r\nL 38.28125 8.296875 \r\nL 54.390625 8.296875 \r\nL 54.390625 0 \r\nL 12.40625 0 \r\nz\r\n\" id=\"DejaVuSans-49\"/>\r\n       </defs>\r\n       <use xlink:href=\"#DejaVuSans-49\"/>\r\n       <use x=\"63.623047\" xlink:href=\"#DejaVuSans-48\"/>\r\n       <use x=\"127.246094\" xlink:href=\"#DejaVuSans-48\"/>\r\n       <use x=\"190.869141\" xlink:href=\"#DejaVuSans-48\"/>\r\n       <use x=\"254.492188\" xlink:href=\"#DejaVuSans-48\"/>\r\n      </g>\r\n     </g>\r\n    </g>\r\n    <g id=\"ytick_4\">\r\n     <g id=\"line2d_9\">\r\n      <g>\r\n       <use style=\"stroke:#000000;stroke-width:0.8;\" x=\"46.0125\" xlink:href=\"#m9900e3f339\" y=\"118.591253\"/>\r\n      </g>\r\n     </g>\r\n     <g id=\"text_9\">\r\n      <!-- 12500 -->\r\n      <g transform=\"translate(7.2 122.390472)scale(0.1 -0.1)\">\r\n       <use xlink:href=\"#DejaVuSans-49\"/>\r\n       <use x=\"63.623047\" xlink:href=\"#DejaVuSans-50\"/>\r\n       <use x=\"127.246094\" xlink:href=\"#DejaVuSans-53\"/>\r\n       <use x=\"190.869141\" xlink:href=\"#DejaVuSans-48\"/>\r\n       <use x=\"254.492188\" xlink:href=\"#DejaVuSans-48\"/>\r\n      </g>\r\n     </g>\r\n    </g>\r\n    <g id=\"ytick_5\">\r\n     <g id=\"line2d_10\">\r\n      <g>\r\n       <use style=\"stroke:#000000;stroke-width:0.8;\" x=\"46.0125\" xlink:href=\"#m9900e3f339\" y=\"91.878722\"/>\r\n      </g>\r\n     </g>\r\n     <g id=\"text_10\">\r\n      <!-- 15000 -->\r\n      <g transform=\"translate(7.2 95.677941)scale(0.1 -0.1)\">\r\n       <use xlink:href=\"#DejaVuSans-49\"/>\r\n       <use x=\"63.623047\" xlink:href=\"#DejaVuSans-53\"/>\r\n       <use x=\"127.246094\" xlink:href=\"#DejaVuSans-48\"/>\r\n       <use x=\"190.869141\" xlink:href=\"#DejaVuSans-48\"/>\r\n       <use x=\"254.492188\" xlink:href=\"#DejaVuSans-48\"/>\r\n      </g>\r\n     </g>\r\n    </g>\r\n    <g id=\"ytick_6\">\r\n     <g id=\"line2d_11\">\r\n      <g>\r\n       <use style=\"stroke:#000000;stroke-width:0.8;\" x=\"46.0125\" xlink:href=\"#m9900e3f339\" y=\"65.166192\"/>\r\n      </g>\r\n     </g>\r\n     <g id=\"text_11\">\r\n      <!-- 17500 -->\r\n      <g transform=\"translate(7.2 68.96541)scale(0.1 -0.1)\">\r\n       <use xlink:href=\"#DejaVuSans-49\"/>\r\n       <use x=\"63.623047\" xlink:href=\"#DejaVuSans-55\"/>\r\n       <use x=\"127.246094\" xlink:href=\"#DejaVuSans-53\"/>\r\n       <use x=\"190.869141\" xlink:href=\"#DejaVuSans-48\"/>\r\n       <use x=\"254.492188\" xlink:href=\"#DejaVuSans-48\"/>\r\n      </g>\r\n     </g>\r\n    </g>\r\n    <g id=\"ytick_7\">\r\n     <g id=\"line2d_12\">\r\n      <g>\r\n       <use style=\"stroke:#000000;stroke-width:0.8;\" x=\"46.0125\" xlink:href=\"#m9900e3f339\" y=\"38.453661\"/>\r\n      </g>\r\n     </g>\r\n     <g id=\"text_12\">\r\n      <!-- 20000 -->\r\n      <g transform=\"translate(7.2 42.25288)scale(0.1 -0.1)\">\r\n       <use xlink:href=\"#DejaVuSans-50\"/>\r\n       <use x=\"63.623047\" xlink:href=\"#DejaVuSans-48\"/>\r\n       <use x=\"127.246094\" xlink:href=\"#DejaVuSans-48\"/>\r\n       <use x=\"190.869141\" xlink:href=\"#DejaVuSans-48\"/>\r\n       <use x=\"254.492188\" xlink:href=\"#DejaVuSans-48\"/>\r\n      </g>\r\n     </g>\r\n    </g>\r\n    <g id=\"ytick_8\">\r\n     <g id=\"line2d_13\">\r\n      <g>\r\n       <use style=\"stroke:#000000;stroke-width:0.8;\" x=\"46.0125\" xlink:href=\"#m9900e3f339\" y=\"11.74113\"/>\r\n      </g>\r\n     </g>\r\n     <g id=\"text_13\">\r\n      <!-- 22500 -->\r\n      <g transform=\"translate(7.2 15.540349)scale(0.1 -0.1)\">\r\n       <use xlink:href=\"#DejaVuSans-50\"/>\r\n       <use x=\"63.623047\" xlink:href=\"#DejaVuSans-50\"/>\r\n       <use x=\"127.246094\" xlink:href=\"#DejaVuSans-53\"/>\r\n       <use x=\"190.869141\" xlink:href=\"#DejaVuSans-48\"/>\r\n       <use x=\"254.492188\" xlink:href=\"#DejaVuSans-48\"/>\r\n      </g>\r\n     </g>\r\n    </g>\r\n   </g>\r\n   <g id=\"line2d_14\">\r\n    <path clip-path=\"url(#p1e52386626)\" d=\"M 61.230682 209.413857 \r\nL 95.048864 198.728845 \r\nL 128.867045 177.358821 \r\nL 162.685227 17.083636 \r\nL 196.503409 214.756364 \r\nL 230.321591 204.071351 \r\nL 264.139773 172.016314 \r\nL 297.957955 177.358821 \r\nL 331.776136 185.37258 \r\nL 365.594318 148.509287 \r\n\" style=\"fill:none;stroke:#1f77b4;stroke-linecap:square;stroke-width:1.5;\"/>\r\n   </g>\r\n   <g id=\"patch_3\">\r\n    <path d=\"M 46.0125 224.64 \r\nL 46.0125 7.2 \r\n\" style=\"fill:none;stroke:#000000;stroke-linecap:square;stroke-linejoin:miter;stroke-width:0.8;\"/>\r\n   </g>\r\n   <g id=\"patch_4\">\r\n    <path d=\"M 380.8125 224.64 \r\nL 380.8125 7.2 \r\n\" style=\"fill:none;stroke:#000000;stroke-linecap:square;stroke-linejoin:miter;stroke-width:0.8;\"/>\r\n   </g>\r\n   <g id=\"patch_5\">\r\n    <path d=\"M 46.0125 224.64 \r\nL 380.8125 224.64 \r\n\" style=\"fill:none;stroke:#000000;stroke-linecap:square;stroke-linejoin:miter;stroke-width:0.8;\"/>\r\n   </g>\r\n   <g id=\"patch_6\">\r\n    <path d=\"M 46.0125 7.2 \r\nL 380.8125 7.2 \r\n\" style=\"fill:none;stroke:#000000;stroke-linecap:square;stroke-linejoin:miter;stroke-width:0.8;\"/>\r\n   </g>\r\n  </g>\r\n </g>\r\n <defs>\r\n  <clipPath id=\"p1e52386626\">\r\n   <rect height=\"217.44\" width=\"334.8\" x=\"46.0125\" y=\"7.2\"/>\r\n  </clipPath>\r\n </defs>\r\n</svg>\r\n",
      "image/png": "[encoded data removed]"
     },
     "metadata": {
      "needs_background": "light"
     }
    }
   ],
   "source": [
    "# Try to plot the Price column using plot()\n",
    "\n",
    "car_sales.Price.plot()\n",
    "\n"
   ]
  },
  {
   "cell_type": "markdown",
   "metadata": {},
   "source": [
    "Why didn't it work? Can you think of a solution?\n",
    "\n",
    "You might want to search for \"how to convert a pandas string columb to numbers\".\n",
    "\n",
    "And if you're still stuck, check out this [Stack Overflow question and answer on turning a price column into integers](https://stackoverflow.com/questions/44469313/price-column-object-to-int-in-pandas).\n",
    "\n",
    "See how you can provide the example code there to the problem here."
   ]
  },
  {
   "cell_type": "code",
   "execution_count": 28,
   "metadata": {},
   "outputs": [],
   "source": [
    "# Remove the punctuation from price column\n",
    "car_sales.Price = car_sales.Price.replace('[\\$,]', '', regex=True).astype(float)"
   ]
  },
  {
   "cell_type": "code",
   "execution_count": 54,
   "metadata": {},
   "outputs": [
    {
     "output_type": "execute_result",
     "data": {
      "text/plain": [
       "0     4000.0\n",
       "1     5000.0\n",
       "2     7000.0\n",
       "3    22000.0\n",
       "4     3500.0\n",
       "5     4500.0\n",
       "6     7500.0\n",
       "7     7000.0\n",
       "8     6250.0\n",
       "9     9700.0\n",
       "Name: Price, dtype: float64"
      ]
     },
     "metadata": {},
     "execution_count": 54
    }
   ],
   "source": [
    "# Check the changes to the price column\n",
    "car_sales.Price"
   ]
  },
  {
   "cell_type": "code",
   "execution_count": 30,
   "metadata": {},
   "outputs": [],
   "source": [
    "# Remove the two extra zeros at the end of the price column\n",
    "# There are no extra zeros in the Coe I used. "
   ]
  },
  {
   "cell_type": "code",
   "execution_count": 31,
   "metadata": {},
   "outputs": [],
   "source": [
    "# Check the changes to the Price column\n"
   ]
  },
  {
   "cell_type": "code",
   "execution_count": 55,
   "metadata": {},
   "outputs": [
    {
     "output_type": "execute_result",
     "data": {
      "text/plain": [
       "0     4000\n",
       "1     5000\n",
       "2     7000\n",
       "3    22000\n",
       "4     3500\n",
       "5     4500\n",
       "6     7500\n",
       "7     7000\n",
       "8     6250\n",
       "9     9700\n",
       "Name: Price, dtype: int16"
      ]
     },
     "metadata": {},
     "execution_count": 55
    }
   ],
   "source": [
    "# Change the datatype of the Price column to integers\n",
    "pd.to_numeric(car_sales.Price, downcast=\"integer\")"
   ]
  },
  {
   "cell_type": "code",
   "execution_count": 57,
   "metadata": {},
   "outputs": [
    {
     "output_type": "execute_result",
     "data": {
      "text/plain": [
       "     Make Colour  Odometer (KM)  Doors    Price\n",
       "0  toyota  White         150043      4   4000.0\n",
       "1   honda    Red          87899      4   5000.0\n",
       "2  toyota   Blue          32549      3   7000.0\n",
       "3     bmw  Black          11179      5  22000.0\n",
       "4  nissan  White         213095      4   3500.0\n",
       "5  toyota  Green          99213      4   4500.0\n",
       "6   honda   Blue          45698      4   7500.0\n",
       "7   honda   Blue          54738      4   7000.0\n",
       "8  toyota  White          60000      4   6250.0\n",
       "9  nissan  White          31600      4   9700.0"
      ],
      "text/html": "<div>\n<style scoped>\n    .dataframe tbody tr th:only-of-type {\n        vertical-align: middle;\n    }\n\n    .dataframe tbody tr th {\n        vertical-align: top;\n    }\n\n    .dataframe thead th {\n        text-align: right;\n    }\n</style>\n<table border=\"1\" class=\"dataframe\">\n  <thead>\n    <tr style=\"text-align: right;\">\n      <th></th>\n      <th>Make</th>\n      <th>Colour</th>\n      <th>Odometer (KM)</th>\n      <th>Doors</th>\n      <th>Price</th>\n    </tr>\n  </thead>\n  <tbody>\n    <tr>\n      <th>0</th>\n      <td>toyota</td>\n      <td>White</td>\n      <td>150043</td>\n      <td>4</td>\n      <td>4000.0</td>\n    </tr>\n    <tr>\n      <th>1</th>\n      <td>honda</td>\n      <td>Red</td>\n      <td>87899</td>\n      <td>4</td>\n      <td>5000.0</td>\n    </tr>\n    <tr>\n      <th>2</th>\n      <td>toyota</td>\n      <td>Blue</td>\n      <td>32549</td>\n      <td>3</td>\n      <td>7000.0</td>\n    </tr>\n    <tr>\n      <th>3</th>\n      <td>bmw</td>\n      <td>Black</td>\n      <td>11179</td>\n      <td>5</td>\n      <td>22000.0</td>\n    </tr>\n    <tr>\n      <th>4</th>\n      <td>nissan</td>\n      <td>White</td>\n      <td>213095</td>\n      <td>4</td>\n      <td>3500.0</td>\n    </tr>\n    <tr>\n      <th>5</th>\n      <td>toyota</td>\n      <td>Green</td>\n      <td>99213</td>\n      <td>4</td>\n      <td>4500.0</td>\n    </tr>\n    <tr>\n      <th>6</th>\n      <td>honda</td>\n      <td>Blue</td>\n      <td>45698</td>\n      <td>4</td>\n      <td>7500.0</td>\n    </tr>\n    <tr>\n      <th>7</th>\n      <td>honda</td>\n      <td>Blue</td>\n      <td>54738</td>\n      <td>4</td>\n      <td>7000.0</td>\n    </tr>\n    <tr>\n      <th>8</th>\n      <td>toyota</td>\n      <td>White</td>\n      <td>60000</td>\n      <td>4</td>\n      <td>6250.0</td>\n    </tr>\n    <tr>\n      <th>9</th>\n      <td>nissan</td>\n      <td>White</td>\n      <td>31600</td>\n      <td>4</td>\n      <td>9700.0</td>\n    </tr>\n  </tbody>\n</table>\n</div>"
     },
     "metadata": {},
     "execution_count": 57
    }
   ],
   "source": [
    "# Lower the strings of the Make column\n",
    "car_sales.Make = car_sales.Make.str.lower()\n",
    "car_sales"
   ]
  },
  {
   "cell_type": "markdown",
   "metadata": {},
   "source": [
    "If you check the car sales DataFrame, you'll notice the Make column hasn't been lowered.\n",
    "\n",
    "How could you make these changes permanent?\n",
    "\n",
    "Try it out."
   ]
  },
  {
   "cell_type": "code",
   "execution_count": 34,
   "metadata": {},
   "outputs": [],
   "source": [
    "# Make lowering the case of the Make column permanent\n",
    "\n",
    "# It's lower. "
   ]
  },
  {
   "cell_type": "code",
   "execution_count": 35,
   "metadata": {},
   "outputs": [],
   "source": [
    "# Check the car sales DataFrame\n"
   ]
  },
  {
   "cell_type": "markdown",
   "metadata": {},
   "source": [
    "Notice how the Make column stays lowered after reassigning.\n",
    "\n",
    "Now let's deal with missing data."
   ]
  },
  {
   "cell_type": "code",
   "execution_count": 58,
   "metadata": {},
   "outputs": [
    {
     "output_type": "execute_result",
     "data": {
      "text/plain": [
       "     Make Colour  Odometer  Doors    Price\n",
       "0  Toyota  White  150043.0    4.0   $4,000\n",
       "1   Honda    Red   87899.0    4.0   $5,000\n",
       "2  Toyota   Blue       NaN    3.0   $7,000\n",
       "3     BMW  Black   11179.0    5.0  $22,000\n",
       "4  Nissan  White  213095.0    4.0   $3,500\n",
       "5  Toyota  Green       NaN    4.0   $4,500\n",
       "6   Honda    NaN       NaN    4.0   $7,500\n",
       "7   Honda   Blue       NaN    4.0      NaN\n",
       "8  Toyota  White   60000.0    NaN      NaN\n",
       "9     NaN  White   31600.0    4.0   $9,700"
      ],
      "text/html": "<div>\n<style scoped>\n    .dataframe tbody tr th:only-of-type {\n        vertical-align: middle;\n    }\n\n    .dataframe tbody tr th {\n        vertical-align: top;\n    }\n\n    .dataframe thead th {\n        text-align: right;\n    }\n</style>\n<table border=\"1\" class=\"dataframe\">\n  <thead>\n    <tr style=\"text-align: right;\">\n      <th></th>\n      <th>Make</th>\n      <th>Colour</th>\n      <th>Odometer</th>\n      <th>Doors</th>\n      <th>Price</th>\n    </tr>\n  </thead>\n  <tbody>\n    <tr>\n      <th>0</th>\n      <td>Toyota</td>\n      <td>White</td>\n      <td>150043.0</td>\n      <td>4.0</td>\n      <td>$4,000</td>\n    </tr>\n    <tr>\n      <th>1</th>\n      <td>Honda</td>\n      <td>Red</td>\n      <td>87899.0</td>\n      <td>4.0</td>\n      <td>$5,000</td>\n    </tr>\n    <tr>\n      <th>2</th>\n      <td>Toyota</td>\n      <td>Blue</td>\n      <td>NaN</td>\n      <td>3.0</td>\n      <td>$7,000</td>\n    </tr>\n    <tr>\n      <th>3</th>\n      <td>BMW</td>\n      <td>Black</td>\n      <td>11179.0</td>\n      <td>5.0</td>\n      <td>$22,000</td>\n    </tr>\n    <tr>\n      <th>4</th>\n      <td>Nissan</td>\n      <td>White</td>\n      <td>213095.0</td>\n      <td>4.0</td>\n      <td>$3,500</td>\n    </tr>\n    <tr>\n      <th>5</th>\n      <td>Toyota</td>\n      <td>Green</td>\n      <td>NaN</td>\n      <td>4.0</td>\n      <td>$4,500</td>\n    </tr>\n    <tr>\n      <th>6</th>\n      <td>Honda</td>\n      <td>NaN</td>\n      <td>NaN</td>\n      <td>4.0</td>\n      <td>$7,500</td>\n    </tr>\n    <tr>\n      <th>7</th>\n      <td>Honda</td>\n      <td>Blue</td>\n      <td>NaN</td>\n      <td>4.0</td>\n      <td>NaN</td>\n    </tr>\n    <tr>\n      <th>8</th>\n      <td>Toyota</td>\n      <td>White</td>\n      <td>60000.0</td>\n      <td>NaN</td>\n      <td>NaN</td>\n    </tr>\n    <tr>\n      <th>9</th>\n      <td>NaN</td>\n      <td>White</td>\n      <td>31600.0</td>\n      <td>4.0</td>\n      <td>$9,700</td>\n    </tr>\n  </tbody>\n</table>\n</div>"
     },
     "metadata": {},
     "execution_count": 58
    }
   ],
   "source": [
    "# Import the car sales DataFrame with missing data (\"../data/car-sales-missing-data.csv\")\n",
    "car_sales_missing_data = pd.read_csv(\"https://raw.githubusercontent.com/mrdbourke/zero-to-mastery-ml/master/data/car-sales-missing-data.csv\")\n",
    "\n",
    "# Check out the new DataFrame\n",
    "car_sales_missing_data"
   ]
  },
  {
   "cell_type": "markdown",
   "metadata": {},
   "source": [
    "Notice the missing values are represented as `NaN` in pandas DataFrames.\n",
    "\n",
    "Let's try fill them."
   ]
  },
  {
   "cell_type": "code",
   "execution_count": 60,
   "metadata": {},
   "outputs": [],
   "source": [
    "# Fill the Odometer (KM) column missing values with the mean of the column inplace\n",
    "car_sales_missing_data.Odometer.fillna(car_sales_missing_data.Odometer.mean(), inplace=True)"
   ]
  },
  {
   "cell_type": "code",
   "execution_count": 61,
   "metadata": {},
   "outputs": [
    {
     "output_type": "execute_result",
     "data": {
      "text/plain": [
       "     Make Colour       Odometer  Doors    Price\n",
       "0  Toyota  White  150043.000000    4.0   $4,000\n",
       "1   Honda    Red   87899.000000    4.0   $5,000\n",
       "2  Toyota   Blue   92302.666667    3.0   $7,000\n",
       "3     BMW  Black   11179.000000    5.0  $22,000\n",
       "4  Nissan  White  213095.000000    4.0   $3,500\n",
       "5  Toyota  Green   92302.666667    4.0   $4,500\n",
       "6   Honda    NaN   92302.666667    4.0   $7,500\n",
       "7   Honda   Blue   92302.666667    4.0      NaN\n",
       "8  Toyota  White   60000.000000    NaN      NaN\n",
       "9     NaN  White   31600.000000    4.0   $9,700"
      ],
      "text/html": "<div>\n<style scoped>\n    .dataframe tbody tr th:only-of-type {\n        vertical-align: middle;\n    }\n\n    .dataframe tbody tr th {\n        vertical-align: top;\n    }\n\n    .dataframe thead th {\n        text-align: right;\n    }\n</style>\n<table border=\"1\" class=\"dataframe\">\n  <thead>\n    <tr style=\"text-align: right;\">\n      <th></th>\n      <th>Make</th>\n      <th>Colour</th>\n      <th>Odometer</th>\n      <th>Doors</th>\n      <th>Price</th>\n    </tr>\n  </thead>\n  <tbody>\n    <tr>\n      <th>0</th>\n      <td>Toyota</td>\n      <td>White</td>\n      <td>150043.000000</td>\n      <td>4.0</td>\n      <td>$4,000</td>\n    </tr>\n    <tr>\n      <th>1</th>\n      <td>Honda</td>\n      <td>Red</td>\n      <td>87899.000000</td>\n      <td>4.0</td>\n      <td>$5,000</td>\n    </tr>\n    <tr>\n      <th>2</th>\n      <td>Toyota</td>\n      <td>Blue</td>\n      <td>92302.666667</td>\n      <td>3.0</td>\n      <td>$7,000</td>\n    </tr>\n    <tr>\n      <th>3</th>\n      <td>BMW</td>\n      <td>Black</td>\n      <td>11179.000000</td>\n      <td>5.0</td>\n      <td>$22,000</td>\n    </tr>\n    <tr>\n      <th>4</th>\n      <td>Nissan</td>\n      <td>White</td>\n      <td>213095.000000</td>\n      <td>4.0</td>\n      <td>$3,500</td>\n    </tr>\n    <tr>\n      <th>5</th>\n      <td>Toyota</td>\n      <td>Green</td>\n      <td>92302.666667</td>\n      <td>4.0</td>\n      <td>$4,500</td>\n    </tr>\n    <tr>\n      <th>6</th>\n      <td>Honda</td>\n      <td>NaN</td>\n      <td>92302.666667</td>\n      <td>4.0</td>\n      <td>$7,500</td>\n    </tr>\n    <tr>\n      <th>7</th>\n      <td>Honda</td>\n      <td>Blue</td>\n      <td>92302.666667</td>\n      <td>4.0</td>\n      <td>NaN</td>\n    </tr>\n    <tr>\n      <th>8</th>\n      <td>Toyota</td>\n      <td>White</td>\n      <td>60000.000000</td>\n      <td>NaN</td>\n      <td>NaN</td>\n    </tr>\n    <tr>\n      <th>9</th>\n      <td>NaN</td>\n      <td>White</td>\n      <td>31600.000000</td>\n      <td>4.0</td>\n      <td>$9,700</td>\n    </tr>\n  </tbody>\n</table>\n</div>"
     },
     "metadata": {},
     "execution_count": 61
    }
   ],
   "source": [
    "# View the car sales missing DataFrame and verify the changes\n",
    "car_sales_missing_data"
   ]
  },
  {
   "cell_type": "code",
   "execution_count": 64,
   "metadata": {},
   "outputs": [],
   "source": [
    "# Remove the rest of the missing data inplace\n",
    "car_sales_missing_data.fillna(0, inplace=True)"
   ]
  },
  {
   "cell_type": "code",
   "execution_count": 65,
   "metadata": {},
   "outputs": [
    {
     "output_type": "execute_result",
     "data": {
      "text/plain": [
       "     Make Colour       Odometer  Doors    Price\n",
       "0  Toyota  White  150043.000000    4.0   $4,000\n",
       "1   Honda    Red   87899.000000    4.0   $5,000\n",
       "2  Toyota   Blue   92302.666667    3.0   $7,000\n",
       "3     BMW  Black   11179.000000    5.0  $22,000\n",
       "4  Nissan  White  213095.000000    4.0   $3,500\n",
       "5  Toyota  Green   92302.666667    4.0   $4,500\n",
       "6   Honda      0   92302.666667    4.0   $7,500\n",
       "7   Honda   Blue   92302.666667    4.0        0\n",
       "8  Toyota  White   60000.000000    0.0        0\n",
       "9       0  White   31600.000000    4.0   $9,700"
      ],
      "text/html": "<div>\n<style scoped>\n    .dataframe tbody tr th:only-of-type {\n        vertical-align: middle;\n    }\n\n    .dataframe tbody tr th {\n        vertical-align: top;\n    }\n\n    .dataframe thead th {\n        text-align: right;\n    }\n</style>\n<table border=\"1\" class=\"dataframe\">\n  <thead>\n    <tr style=\"text-align: right;\">\n      <th></th>\n      <th>Make</th>\n      <th>Colour</th>\n      <th>Odometer</th>\n      <th>Doors</th>\n      <th>Price</th>\n    </tr>\n  </thead>\n  <tbody>\n    <tr>\n      <th>0</th>\n      <td>Toyota</td>\n      <td>White</td>\n      <td>150043.000000</td>\n      <td>4.0</td>\n      <td>$4,000</td>\n    </tr>\n    <tr>\n      <th>1</th>\n      <td>Honda</td>\n      <td>Red</td>\n      <td>87899.000000</td>\n      <td>4.0</td>\n      <td>$5,000</td>\n    </tr>\n    <tr>\n      <th>2</th>\n      <td>Toyota</td>\n      <td>Blue</td>\n      <td>92302.666667</td>\n      <td>3.0</td>\n      <td>$7,000</td>\n    </tr>\n    <tr>\n      <th>3</th>\n      <td>BMW</td>\n      <td>Black</td>\n      <td>11179.000000</td>\n      <td>5.0</td>\n      <td>$22,000</td>\n    </tr>\n    <tr>\n      <th>4</th>\n      <td>Nissan</td>\n      <td>White</td>\n      <td>213095.000000</td>\n      <td>4.0</td>\n      <td>$3,500</td>\n    </tr>\n    <tr>\n      <th>5</th>\n      <td>Toyota</td>\n      <td>Green</td>\n      <td>92302.666667</td>\n      <td>4.0</td>\n      <td>$4,500</td>\n    </tr>\n    <tr>\n      <th>6</th>\n      <td>Honda</td>\n      <td>0</td>\n      <td>92302.666667</td>\n      <td>4.0</td>\n      <td>$7,500</td>\n    </tr>\n    <tr>\n      <th>7</th>\n      <td>Honda</td>\n      <td>Blue</td>\n      <td>92302.666667</td>\n      <td>4.0</td>\n      <td>0</td>\n    </tr>\n    <tr>\n      <th>8</th>\n      <td>Toyota</td>\n      <td>White</td>\n      <td>60000.000000</td>\n      <td>0.0</td>\n      <td>0</td>\n    </tr>\n    <tr>\n      <th>9</th>\n      <td>0</td>\n      <td>White</td>\n      <td>31600.000000</td>\n      <td>4.0</td>\n      <td>$9,700</td>\n    </tr>\n  </tbody>\n</table>\n</div>"
     },
     "metadata": {},
     "execution_count": 65
    }
   ],
   "source": [
    "# Verify the missing values are removed by viewing the DataFrame\n",
    "car_sales_missing_data"
   ]
  },
  {
   "cell_type": "markdown",
   "metadata": {},
   "source": [
    "We'll now start to add columns to our DataFrame."
   ]
  },
  {
   "cell_type": "code",
   "execution_count": 71,
   "metadata": {},
   "outputs": [
    {
     "output_type": "execute_result",
     "data": {
      "text/plain": [
       "     Make Colour  Odometer (KM)  Doors    Price  Seats\n",
       "0  toyota  White         150043      4   4000.0      5\n",
       "1   honda    Red          87899      4   5000.0      5\n",
       "2  toyota   Blue          32549      3   7000.0      5\n",
       "3     bmw  Black          11179      5  22000.0      5\n",
       "4  nissan  White         213095      4   3500.0      5\n",
       "5  toyota  Green          99213      4   4500.0      5\n",
       "6   honda   Blue          45698      4   7500.0      5\n",
       "7   honda   Blue          54738      4   7000.0      5\n",
       "8  toyota  White          60000      4   6250.0      5\n",
       "9  nissan  White          31600      4   9700.0      5"
      ],
      "text/html": "<div>\n<style scoped>\n    .dataframe tbody tr th:only-of-type {\n        vertical-align: middle;\n    }\n\n    .dataframe tbody tr th {\n        vertical-align: top;\n    }\n\n    .dataframe thead th {\n        text-align: right;\n    }\n</style>\n<table border=\"1\" class=\"dataframe\">\n  <thead>\n    <tr style=\"text-align: right;\">\n      <th></th>\n      <th>Make</th>\n      <th>Colour</th>\n      <th>Odometer (KM)</th>\n      <th>Doors</th>\n      <th>Price</th>\n      <th>Seats</th>\n    </tr>\n  </thead>\n  <tbody>\n    <tr>\n      <th>0</th>\n      <td>toyota</td>\n      <td>White</td>\n      <td>150043</td>\n      <td>4</td>\n      <td>4000.0</td>\n      <td>5</td>\n    </tr>\n    <tr>\n      <th>1</th>\n      <td>honda</td>\n      <td>Red</td>\n      <td>87899</td>\n      <td>4</td>\n      <td>5000.0</td>\n      <td>5</td>\n    </tr>\n    <tr>\n      <th>2</th>\n      <td>toyota</td>\n      <td>Blue</td>\n      <td>32549</td>\n      <td>3</td>\n      <td>7000.0</td>\n      <td>5</td>\n    </tr>\n    <tr>\n      <th>3</th>\n      <td>bmw</td>\n      <td>Black</td>\n      <td>11179</td>\n      <td>5</td>\n      <td>22000.0</td>\n      <td>5</td>\n    </tr>\n    <tr>\n      <th>4</th>\n      <td>nissan</td>\n      <td>White</td>\n      <td>213095</td>\n      <td>4</td>\n      <td>3500.0</td>\n      <td>5</td>\n    </tr>\n    <tr>\n      <th>5</th>\n      <td>toyota</td>\n      <td>Green</td>\n      <td>99213</td>\n      <td>4</td>\n      <td>4500.0</td>\n      <td>5</td>\n    </tr>\n    <tr>\n      <th>6</th>\n      <td>honda</td>\n      <td>Blue</td>\n      <td>45698</td>\n      <td>4</td>\n      <td>7500.0</td>\n      <td>5</td>\n    </tr>\n    <tr>\n      <th>7</th>\n      <td>honda</td>\n      <td>Blue</td>\n      <td>54738</td>\n      <td>4</td>\n      <td>7000.0</td>\n      <td>5</td>\n    </tr>\n    <tr>\n      <th>8</th>\n      <td>toyota</td>\n      <td>White</td>\n      <td>60000</td>\n      <td>4</td>\n      <td>6250.0</td>\n      <td>5</td>\n    </tr>\n    <tr>\n      <th>9</th>\n      <td>nissan</td>\n      <td>White</td>\n      <td>31600</td>\n      <td>4</td>\n      <td>9700.0</td>\n      <td>5</td>\n    </tr>\n  </tbody>\n</table>\n</div>"
     },
     "metadata": {},
     "execution_count": 71
    }
   ],
   "source": [
    "# Create a \"Seats\" column where every row has a value of 5\n",
    "car_sales[\"Seats\"] = 5\n",
    "car_sales"
   ]
  },
  {
   "cell_type": "code",
   "execution_count": 77,
   "metadata": {},
   "outputs": [
    {
     "output_type": "execute_result",
     "data": {
      "text/plain": [
       "     Make Colour  Odometer (KM)  Doors    Price  Seats  Engine Size\n",
       "0  toyota  White         150043      4   4000.0      5            2\n",
       "1   honda    Red          87899      4   5000.0      5            2\n",
       "2  toyota   Blue          32549      3   7000.0      5            2\n",
       "3     bmw  Black          11179      5  22000.0      5            2\n",
       "4  nissan  White         213095      4   3500.0      5            2\n",
       "5  toyota  Green          99213      4   4500.0      5            2\n",
       "6   honda   Blue          45698      4   7500.0      5            2\n",
       "7   honda   Blue          54738      4   7000.0      5            2\n",
       "8  toyota  White          60000      4   6250.0      5            2\n",
       "9  nissan  White          31600      4   9700.0      5            2"
      ],
      "text/html": "<div>\n<style scoped>\n    .dataframe tbody tr th:only-of-type {\n        vertical-align: middle;\n    }\n\n    .dataframe tbody tr th {\n        vertical-align: top;\n    }\n\n    .dataframe thead th {\n        text-align: right;\n    }\n</style>\n<table border=\"1\" class=\"dataframe\">\n  <thead>\n    <tr style=\"text-align: right;\">\n      <th></th>\n      <th>Make</th>\n      <th>Colour</th>\n      <th>Odometer (KM)</th>\n      <th>Doors</th>\n      <th>Price</th>\n      <th>Seats</th>\n      <th>Engine Size</th>\n    </tr>\n  </thead>\n  <tbody>\n    <tr>\n      <th>0</th>\n      <td>toyota</td>\n      <td>White</td>\n      <td>150043</td>\n      <td>4</td>\n      <td>4000.0</td>\n      <td>5</td>\n      <td>2</td>\n    </tr>\n    <tr>\n      <th>1</th>\n      <td>honda</td>\n      <td>Red</td>\n      <td>87899</td>\n      <td>4</td>\n      <td>5000.0</td>\n      <td>5</td>\n      <td>2</td>\n    </tr>\n    <tr>\n      <th>2</th>\n      <td>toyota</td>\n      <td>Blue</td>\n      <td>32549</td>\n      <td>3</td>\n      <td>7000.0</td>\n      <td>5</td>\n      <td>2</td>\n    </tr>\n    <tr>\n      <th>3</th>\n      <td>bmw</td>\n      <td>Black</td>\n      <td>11179</td>\n      <td>5</td>\n      <td>22000.0</td>\n      <td>5</td>\n      <td>2</td>\n    </tr>\n    <tr>\n      <th>4</th>\n      <td>nissan</td>\n      <td>White</td>\n      <td>213095</td>\n      <td>4</td>\n      <td>3500.0</td>\n      <td>5</td>\n      <td>2</td>\n    </tr>\n    <tr>\n      <th>5</th>\n      <td>toyota</td>\n      <td>Green</td>\n      <td>99213</td>\n      <td>4</td>\n      <td>4500.0</td>\n      <td>5</td>\n      <td>2</td>\n    </tr>\n    <tr>\n      <th>6</th>\n      <td>honda</td>\n      <td>Blue</td>\n      <td>45698</td>\n      <td>4</td>\n      <td>7500.0</td>\n      <td>5</td>\n      <td>2</td>\n    </tr>\n    <tr>\n      <th>7</th>\n      <td>honda</td>\n      <td>Blue</td>\n      <td>54738</td>\n      <td>4</td>\n      <td>7000.0</td>\n      <td>5</td>\n      <td>2</td>\n    </tr>\n    <tr>\n      <th>8</th>\n      <td>toyota</td>\n      <td>White</td>\n      <td>60000</td>\n      <td>4</td>\n      <td>6250.0</td>\n      <td>5</td>\n      <td>2</td>\n    </tr>\n    <tr>\n      <th>9</th>\n      <td>nissan</td>\n      <td>White</td>\n      <td>31600</td>\n      <td>4</td>\n      <td>9700.0</td>\n      <td>5</td>\n      <td>2</td>\n    </tr>\n  </tbody>\n</table>\n</div>"
     },
     "metadata": {},
     "execution_count": 77
    }
   ],
   "source": [
    "# Create a column called \"Engine Size\" with random values between 1.3 and 4.5\n",
    "# Remember: If you're doing it from a Python list, the list has to be the same length\n",
    "# as the DataFrame\n",
    "\n",
    "import numpy as np;\n",
    "\n",
    "car_sales[\"Engine Size\"] = np.random.randint(1.3, 4.5)\n",
    "car_sales"
   ]
  },
  {
   "cell_type": "code",
   "execution_count": 79,
   "metadata": {},
   "outputs": [
    {
     "output_type": "execute_result",
     "data": {
      "text/plain": [
       "     Make Colour  Odometer (KM)  Doors    Price  Seats  Engine Size  \\\n",
       "0  toyota  White         150043      4   4000.0      5            2   \n",
       "1   honda    Red          87899      4   5000.0      5            2   \n",
       "2  toyota   Blue          32549      3   7000.0      5            2   \n",
       "3     bmw  Black          11179      5  22000.0      5            2   \n",
       "4  nissan  White         213095      4   3500.0      5            2   \n",
       "5  toyota  Green          99213      4   4500.0      5            2   \n",
       "6   honda   Blue          45698      4   7500.0      5            2   \n",
       "7   honda   Blue          54738      4   7000.0      5            2   \n",
       "8  toyota  White          60000      4   6250.0      5            2   \n",
       "9  nissan  White          31600      4   9700.0      5            2   \n",
       "\n",
       "   Price per KM  \n",
       "0     37.510750  \n",
       "1     17.579800  \n",
       "2      4.649857  \n",
       "3      0.508136  \n",
       "4     60.884286  \n",
       "5     22.047333  \n",
       "6      6.093067  \n",
       "7      7.819714  \n",
       "8      9.600000  \n",
       "9      3.257732  "
      ],
      "text/html": "<div>\n<style scoped>\n    .dataframe tbody tr th:only-of-type {\n        vertical-align: middle;\n    }\n\n    .dataframe tbody tr th {\n        vertical-align: top;\n    }\n\n    .dataframe thead th {\n        text-align: right;\n    }\n</style>\n<table border=\"1\" class=\"dataframe\">\n  <thead>\n    <tr style=\"text-align: right;\">\n      <th></th>\n      <th>Make</th>\n      <th>Colour</th>\n      <th>Odometer (KM)</th>\n      <th>Doors</th>\n      <th>Price</th>\n      <th>Seats</th>\n      <th>Engine Size</th>\n      <th>Price per KM</th>\n    </tr>\n  </thead>\n  <tbody>\n    <tr>\n      <th>0</th>\n      <td>toyota</td>\n      <td>White</td>\n      <td>150043</td>\n      <td>4</td>\n      <td>4000.0</td>\n      <td>5</td>\n      <td>2</td>\n      <td>37.510750</td>\n    </tr>\n    <tr>\n      <th>1</th>\n      <td>honda</td>\n      <td>Red</td>\n      <td>87899</td>\n      <td>4</td>\n      <td>5000.0</td>\n      <td>5</td>\n      <td>2</td>\n      <td>17.579800</td>\n    </tr>\n    <tr>\n      <th>2</th>\n      <td>toyota</td>\n      <td>Blue</td>\n      <td>32549</td>\n      <td>3</td>\n      <td>7000.0</td>\n      <td>5</td>\n      <td>2</td>\n      <td>4.649857</td>\n    </tr>\n    <tr>\n      <th>3</th>\n      <td>bmw</td>\n      <td>Black</td>\n      <td>11179</td>\n      <td>5</td>\n      <td>22000.0</td>\n      <td>5</td>\n      <td>2</td>\n      <td>0.508136</td>\n    </tr>\n    <tr>\n      <th>4</th>\n      <td>nissan</td>\n      <td>White</td>\n      <td>213095</td>\n      <td>4</td>\n      <td>3500.0</td>\n      <td>5</td>\n      <td>2</td>\n      <td>60.884286</td>\n    </tr>\n    <tr>\n      <th>5</th>\n      <td>toyota</td>\n      <td>Green</td>\n      <td>99213</td>\n      <td>4</td>\n      <td>4500.0</td>\n      <td>5</td>\n      <td>2</td>\n      <td>22.047333</td>\n    </tr>\n    <tr>\n      <th>6</th>\n      <td>honda</td>\n      <td>Blue</td>\n      <td>45698</td>\n      <td>4</td>\n      <td>7500.0</td>\n      <td>5</td>\n      <td>2</td>\n      <td>6.093067</td>\n    </tr>\n    <tr>\n      <th>7</th>\n      <td>honda</td>\n      <td>Blue</td>\n      <td>54738</td>\n      <td>4</td>\n      <td>7000.0</td>\n      <td>5</td>\n      <td>2</td>\n      <td>7.819714</td>\n    </tr>\n    <tr>\n      <th>8</th>\n      <td>toyota</td>\n      <td>White</td>\n      <td>60000</td>\n      <td>4</td>\n      <td>6250.0</td>\n      <td>5</td>\n      <td>2</td>\n      <td>9.600000</td>\n    </tr>\n    <tr>\n      <th>9</th>\n      <td>nissan</td>\n      <td>White</td>\n      <td>31600</td>\n      <td>4</td>\n      <td>9700.0</td>\n      <td>5</td>\n      <td>2</td>\n      <td>3.257732</td>\n    </tr>\n  </tbody>\n</table>\n</div>"
     },
     "metadata": {},
     "execution_count": 79
    }
   ],
   "source": [
    "# Create a column which represents the price of a car per kilometer\n",
    "# Then view the DataFrame\n",
    "car_sales\n",
    "car_sales[\"Price per KM\"] = car_sales[\"Odometer (KM)\"] / car_sales.Price\n",
    "\n",
    "car_sales"
   ]
  },
  {
   "cell_type": "code",
   "execution_count": 85,
   "metadata": {},
   "outputs": [
    {
     "output_type": "execute_result",
     "data": {
      "text/plain": [
       "     Make Colour  Odometer (KM)  Doors    Price  Seats  Engine Size\n",
       "0  toyota  White         150043      4   4000.0      5            2\n",
       "1   honda    Red          87899      4   5000.0      5            2\n",
       "2  toyota   Blue          32549      3   7000.0      5            2\n",
       "3     bmw  Black          11179      5  22000.0      5            2\n",
       "4  nissan  White         213095      4   3500.0      5            2\n",
       "5  toyota  Green          99213      4   4500.0      5            2\n",
       "6   honda   Blue          45698      4   7500.0      5            2\n",
       "7   honda   Blue          54738      4   7000.0      5            2\n",
       "8  toyota  White          60000      4   6250.0      5            2\n",
       "9  nissan  White          31600      4   9700.0      5            2"
      ],
      "text/html": "<div>\n<style scoped>\n    .dataframe tbody tr th:only-of-type {\n        vertical-align: middle;\n    }\n\n    .dataframe tbody tr th {\n        vertical-align: top;\n    }\n\n    .dataframe thead th {\n        text-align: right;\n    }\n</style>\n<table border=\"1\" class=\"dataframe\">\n  <thead>\n    <tr style=\"text-align: right;\">\n      <th></th>\n      <th>Make</th>\n      <th>Colour</th>\n      <th>Odometer (KM)</th>\n      <th>Doors</th>\n      <th>Price</th>\n      <th>Seats</th>\n      <th>Engine Size</th>\n    </tr>\n  </thead>\n  <tbody>\n    <tr>\n      <th>0</th>\n      <td>toyota</td>\n      <td>White</td>\n      <td>150043</td>\n      <td>4</td>\n      <td>4000.0</td>\n      <td>5</td>\n      <td>2</td>\n    </tr>\n    <tr>\n      <th>1</th>\n      <td>honda</td>\n      <td>Red</td>\n      <td>87899</td>\n      <td>4</td>\n      <td>5000.0</td>\n      <td>5</td>\n      <td>2</td>\n    </tr>\n    <tr>\n      <th>2</th>\n      <td>toyota</td>\n      <td>Blue</td>\n      <td>32549</td>\n      <td>3</td>\n      <td>7000.0</td>\n      <td>5</td>\n      <td>2</td>\n    </tr>\n    <tr>\n      <th>3</th>\n      <td>bmw</td>\n      <td>Black</td>\n      <td>11179</td>\n      <td>5</td>\n      <td>22000.0</td>\n      <td>5</td>\n      <td>2</td>\n    </tr>\n    <tr>\n      <th>4</th>\n      <td>nissan</td>\n      <td>White</td>\n      <td>213095</td>\n      <td>4</td>\n      <td>3500.0</td>\n      <td>5</td>\n      <td>2</td>\n    </tr>\n    <tr>\n      <th>5</th>\n      <td>toyota</td>\n      <td>Green</td>\n      <td>99213</td>\n      <td>4</td>\n      <td>4500.0</td>\n      <td>5</td>\n      <td>2</td>\n    </tr>\n    <tr>\n      <th>6</th>\n      <td>honda</td>\n      <td>Blue</td>\n      <td>45698</td>\n      <td>4</td>\n      <td>7500.0</td>\n      <td>5</td>\n      <td>2</td>\n    </tr>\n    <tr>\n      <th>7</th>\n      <td>honda</td>\n      <td>Blue</td>\n      <td>54738</td>\n      <td>4</td>\n      <td>7000.0</td>\n      <td>5</td>\n      <td>2</td>\n    </tr>\n    <tr>\n      <th>8</th>\n      <td>toyota</td>\n      <td>White</td>\n      <td>60000</td>\n      <td>4</td>\n      <td>6250.0</td>\n      <td>5</td>\n      <td>2</td>\n    </tr>\n    <tr>\n      <th>9</th>\n      <td>nissan</td>\n      <td>White</td>\n      <td>31600</td>\n      <td>4</td>\n      <td>9700.0</td>\n      <td>5</td>\n      <td>2</td>\n    </tr>\n  </tbody>\n</table>\n</div>"
     },
     "metadata": {},
     "execution_count": 85
    }
   ],
   "source": [
    "# Remove the last column you added using .drop()\n",
    "car_sales.drop(\"Price per KM\", axis=1)"
   ]
  },
  {
   "cell_type": "code",
   "execution_count": 86,
   "metadata": {},
   "outputs": [
    {
     "output_type": "execute_result",
     "data": {
      "text/plain": [
       "     Make Colour  Odometer (KM)  Doors    Price  Seats  Engine Size  \\\n",
       "3     bmw  Black          11179      5  22000.0      5            2   \n",
       "7   honda   Blue          54738      4   7000.0      5            2   \n",
       "8  toyota  White          60000      4   6250.0      5            2   \n",
       "0  toyota  White         150043      4   4000.0      5            2   \n",
       "5  toyota  Green          99213      4   4500.0      5            2   \n",
       "6   honda   Blue          45698      4   7500.0      5            2   \n",
       "4  nissan  White         213095      4   3500.0      5            2   \n",
       "1   honda    Red          87899      4   5000.0      5            2   \n",
       "2  toyota   Blue          32549      3   7000.0      5            2   \n",
       "9  nissan  White          31600      4   9700.0      5            2   \n",
       "\n",
       "   Price per KM  \n",
       "3      0.508136  \n",
       "7      7.819714  \n",
       "8      9.600000  \n",
       "0     37.510750  \n",
       "5     22.047333  \n",
       "6      6.093067  \n",
       "4     60.884286  \n",
       "1     17.579800  \n",
       "2      4.649857  \n",
       "9      3.257732  "
      ],
      "text/html": "<div>\n<style scoped>\n    .dataframe tbody tr th:only-of-type {\n        vertical-align: middle;\n    }\n\n    .dataframe tbody tr th {\n        vertical-align: top;\n    }\n\n    .dataframe thead th {\n        text-align: right;\n    }\n</style>\n<table border=\"1\" class=\"dataframe\">\n  <thead>\n    <tr style=\"text-align: right;\">\n      <th></th>\n      <th>Make</th>\n      <th>Colour</th>\n      <th>Odometer (KM)</th>\n      <th>Doors</th>\n      <th>Price</th>\n      <th>Seats</th>\n      <th>Engine Size</th>\n      <th>Price per KM</th>\n    </tr>\n  </thead>\n  <tbody>\n    <tr>\n      <th>3</th>\n      <td>bmw</td>\n      <td>Black</td>\n      <td>11179</td>\n      <td>5</td>\n      <td>22000.0</td>\n      <td>5</td>\n      <td>2</td>\n      <td>0.508136</td>\n    </tr>\n    <tr>\n      <th>7</th>\n      <td>honda</td>\n      <td>Blue</td>\n      <td>54738</td>\n      <td>4</td>\n      <td>7000.0</td>\n      <td>5</td>\n      <td>2</td>\n      <td>7.819714</td>\n    </tr>\n    <tr>\n      <th>8</th>\n      <td>toyota</td>\n      <td>White</td>\n      <td>60000</td>\n      <td>4</td>\n      <td>6250.0</td>\n      <td>5</td>\n      <td>2</td>\n      <td>9.600000</td>\n    </tr>\n    <tr>\n      <th>0</th>\n      <td>toyota</td>\n      <td>White</td>\n      <td>150043</td>\n      <td>4</td>\n      <td>4000.0</td>\n      <td>5</td>\n      <td>2</td>\n      <td>37.510750</td>\n    </tr>\n    <tr>\n      <th>5</th>\n      <td>toyota</td>\n      <td>Green</td>\n      <td>99213</td>\n      <td>4</td>\n      <td>4500.0</td>\n      <td>5</td>\n      <td>2</td>\n      <td>22.047333</td>\n    </tr>\n    <tr>\n      <th>6</th>\n      <td>honda</td>\n      <td>Blue</td>\n      <td>45698</td>\n      <td>4</td>\n      <td>7500.0</td>\n      <td>5</td>\n      <td>2</td>\n      <td>6.093067</td>\n    </tr>\n    <tr>\n      <th>4</th>\n      <td>nissan</td>\n      <td>White</td>\n      <td>213095</td>\n      <td>4</td>\n      <td>3500.0</td>\n      <td>5</td>\n      <td>2</td>\n      <td>60.884286</td>\n    </tr>\n    <tr>\n      <th>1</th>\n      <td>honda</td>\n      <td>Red</td>\n      <td>87899</td>\n      <td>4</td>\n      <td>5000.0</td>\n      <td>5</td>\n      <td>2</td>\n      <td>17.579800</td>\n    </tr>\n    <tr>\n      <th>2</th>\n      <td>toyota</td>\n      <td>Blue</td>\n      <td>32549</td>\n      <td>3</td>\n      <td>7000.0</td>\n      <td>5</td>\n      <td>2</td>\n      <td>4.649857</td>\n    </tr>\n    <tr>\n      <th>9</th>\n      <td>nissan</td>\n      <td>White</td>\n      <td>31600</td>\n      <td>4</td>\n      <td>9700.0</td>\n      <td>5</td>\n      <td>2</td>\n      <td>3.257732</td>\n    </tr>\n  </tbody>\n</table>\n</div>"
     },
     "metadata": {},
     "execution_count": 86
    }
   ],
   "source": [
    "# Shuffle the DataFrame using sample() with the frac parameter set to 1\n",
    "# Save the the shuffled DataFrame to a new variable\n",
    "car_sales_shuffled_data = car_sales.sample(frac=1)\n",
    "car_sales_shuffled_data"
   ]
  },
  {
   "cell_type": "markdown",
   "metadata": {},
   "source": [
    "Notice how the index numbers get moved around. The [`sample()`](https://pandas.pydata.org/pandas-docs/stable/reference/api/pandas.DataFrame.sample.html) function is a great way to get random samples from your DataFrame. It's also another great way to shuffle the rows by setting `frac=1`."
   ]
  },
  {
   "cell_type": "code",
   "execution_count": 87,
   "metadata": {},
   "outputs": [
    {
     "output_type": "execute_result",
     "data": {
      "text/plain": [
       "     Make Colour  Odometer (KM)  Doors    Price  Seats  Engine Size  \\\n",
       "0     bmw  Black          11179      5  22000.0      5            2   \n",
       "1   honda   Blue          54738      4   7000.0      5            2   \n",
       "2  toyota  White          60000      4   6250.0      5            2   \n",
       "3  toyota  White         150043      4   4000.0      5            2   \n",
       "4  toyota  Green          99213      4   4500.0      5            2   \n",
       "5   honda   Blue          45698      4   7500.0      5            2   \n",
       "6  nissan  White         213095      4   3500.0      5            2   \n",
       "7   honda    Red          87899      4   5000.0      5            2   \n",
       "8  toyota   Blue          32549      3   7000.0      5            2   \n",
       "9  nissan  White          31600      4   9700.0      5            2   \n",
       "\n",
       "   Price per KM  \n",
       "0      0.508136  \n",
       "1      7.819714  \n",
       "2      9.600000  \n",
       "3     37.510750  \n",
       "4     22.047333  \n",
       "5      6.093067  \n",
       "6     60.884286  \n",
       "7     17.579800  \n",
       "8      4.649857  \n",
       "9      3.257732  "
      ],
      "text/html": "<div>\n<style scoped>\n    .dataframe tbody tr th:only-of-type {\n        vertical-align: middle;\n    }\n\n    .dataframe tbody tr th {\n        vertical-align: top;\n    }\n\n    .dataframe thead th {\n        text-align: right;\n    }\n</style>\n<table border=\"1\" class=\"dataframe\">\n  <thead>\n    <tr style=\"text-align: right;\">\n      <th></th>\n      <th>Make</th>\n      <th>Colour</th>\n      <th>Odometer (KM)</th>\n      <th>Doors</th>\n      <th>Price</th>\n      <th>Seats</th>\n      <th>Engine Size</th>\n      <th>Price per KM</th>\n    </tr>\n  </thead>\n  <tbody>\n    <tr>\n      <th>0</th>\n      <td>bmw</td>\n      <td>Black</td>\n      <td>11179</td>\n      <td>5</td>\n      <td>22000.0</td>\n      <td>5</td>\n      <td>2</td>\n      <td>0.508136</td>\n    </tr>\n    <tr>\n      <th>1</th>\n      <td>honda</td>\n      <td>Blue</td>\n      <td>54738</td>\n      <td>4</td>\n      <td>7000.0</td>\n      <td>5</td>\n      <td>2</td>\n      <td>7.819714</td>\n    </tr>\n    <tr>\n      <th>2</th>\n      <td>toyota</td>\n      <td>White</td>\n      <td>60000</td>\n      <td>4</td>\n      <td>6250.0</td>\n      <td>5</td>\n      <td>2</td>\n      <td>9.600000</td>\n    </tr>\n    <tr>\n      <th>3</th>\n      <td>toyota</td>\n      <td>White</td>\n      <td>150043</td>\n      <td>4</td>\n      <td>4000.0</td>\n      <td>5</td>\n      <td>2</td>\n      <td>37.510750</td>\n    </tr>\n    <tr>\n      <th>4</th>\n      <td>toyota</td>\n      <td>Green</td>\n      <td>99213</td>\n      <td>4</td>\n      <td>4500.0</td>\n      <td>5</td>\n      <td>2</td>\n      <td>22.047333</td>\n    </tr>\n    <tr>\n      <th>5</th>\n      <td>honda</td>\n      <td>Blue</td>\n      <td>45698</td>\n      <td>4</td>\n      <td>7500.0</td>\n      <td>5</td>\n      <td>2</td>\n      <td>6.093067</td>\n    </tr>\n    <tr>\n      <th>6</th>\n      <td>nissan</td>\n      <td>White</td>\n      <td>213095</td>\n      <td>4</td>\n      <td>3500.0</td>\n      <td>5</td>\n      <td>2</td>\n      <td>60.884286</td>\n    </tr>\n    <tr>\n      <th>7</th>\n      <td>honda</td>\n      <td>Red</td>\n      <td>87899</td>\n      <td>4</td>\n      <td>5000.0</td>\n      <td>5</td>\n      <td>2</td>\n      <td>17.579800</td>\n    </tr>\n    <tr>\n      <th>8</th>\n      <td>toyota</td>\n      <td>Blue</td>\n      <td>32549</td>\n      <td>3</td>\n      <td>7000.0</td>\n      <td>5</td>\n      <td>2</td>\n      <td>4.649857</td>\n    </tr>\n    <tr>\n      <th>9</th>\n      <td>nissan</td>\n      <td>White</td>\n      <td>31600</td>\n      <td>4</td>\n      <td>9700.0</td>\n      <td>5</td>\n      <td>2</td>\n      <td>3.257732</td>\n    </tr>\n  </tbody>\n</table>\n</div>"
     },
     "metadata": {},
     "execution_count": 87
    }
   ],
   "source": [
    "# Reset the indexes of the shuffled DataFrame\n",
    "car_sales_shuffled_data.reset_index(drop=True)"
   ]
  },
  {
   "cell_type": "markdown",
   "metadata": {},
   "source": [
    "Notice the index numbers have been changed to have order (start from 0)."
   ]
  },
  {
   "cell_type": "code",
   "execution_count": 89,
   "metadata": {},
   "outputs": [
    {
     "output_type": "execute_result",
     "data": {
      "text/plain": [
       "     Make Colour  Odometer (KM)  Doors    Price  Seats  Engine Size  \\\n",
       "0  toyota  White      93776.875      4   4000.0      5            2   \n",
       "1   honda    Red      54936.875      4   5000.0      5            2   \n",
       "2  toyota   Blue      20343.125      3   7000.0      5            2   \n",
       "3     bmw  Black       6986.875      5  22000.0      5            2   \n",
       "4  nissan  White     133184.375      4   3500.0      5            2   \n",
       "5  toyota  Green      62008.125      4   4500.0      5            2   \n",
       "6   honda   Blue      28561.250      4   7500.0      5            2   \n",
       "7   honda   Blue      34211.250      4   7000.0      5            2   \n",
       "8  toyota  White      37500.000      4   6250.0      5            2   \n",
       "9  nissan  White      19750.000      4   9700.0      5            2   \n",
       "\n",
       "   Price per KM  \n",
       "0     37.510750  \n",
       "1     17.579800  \n",
       "2      4.649857  \n",
       "3      0.508136  \n",
       "4     60.884286  \n",
       "5     22.047333  \n",
       "6      6.093067  \n",
       "7      7.819714  \n",
       "8      9.600000  \n",
       "9      3.257732  "
      ],
      "text/html": "<div>\n<style scoped>\n    .dataframe tbody tr th:only-of-type {\n        vertical-align: middle;\n    }\n\n    .dataframe tbody tr th {\n        vertical-align: top;\n    }\n\n    .dataframe thead th {\n        text-align: right;\n    }\n</style>\n<table border=\"1\" class=\"dataframe\">\n  <thead>\n    <tr style=\"text-align: right;\">\n      <th></th>\n      <th>Make</th>\n      <th>Colour</th>\n      <th>Odometer (KM)</th>\n      <th>Doors</th>\n      <th>Price</th>\n      <th>Seats</th>\n      <th>Engine Size</th>\n      <th>Price per KM</th>\n    </tr>\n  </thead>\n  <tbody>\n    <tr>\n      <th>0</th>\n      <td>toyota</td>\n      <td>White</td>\n      <td>93776.875</td>\n      <td>4</td>\n      <td>4000.0</td>\n      <td>5</td>\n      <td>2</td>\n      <td>37.510750</td>\n    </tr>\n    <tr>\n      <th>1</th>\n      <td>honda</td>\n      <td>Red</td>\n      <td>54936.875</td>\n      <td>4</td>\n      <td>5000.0</td>\n      <td>5</td>\n      <td>2</td>\n      <td>17.579800</td>\n    </tr>\n    <tr>\n      <th>2</th>\n      <td>toyota</td>\n      <td>Blue</td>\n      <td>20343.125</td>\n      <td>3</td>\n      <td>7000.0</td>\n      <td>5</td>\n      <td>2</td>\n      <td>4.649857</td>\n    </tr>\n    <tr>\n      <th>3</th>\n      <td>bmw</td>\n      <td>Black</td>\n      <td>6986.875</td>\n      <td>5</td>\n      <td>22000.0</td>\n      <td>5</td>\n      <td>2</td>\n      <td>0.508136</td>\n    </tr>\n    <tr>\n      <th>4</th>\n      <td>nissan</td>\n      <td>White</td>\n      <td>133184.375</td>\n      <td>4</td>\n      <td>3500.0</td>\n      <td>5</td>\n      <td>2</td>\n      <td>60.884286</td>\n    </tr>\n    <tr>\n      <th>5</th>\n      <td>toyota</td>\n      <td>Green</td>\n      <td>62008.125</td>\n      <td>4</td>\n      <td>4500.0</td>\n      <td>5</td>\n      <td>2</td>\n      <td>22.047333</td>\n    </tr>\n    <tr>\n      <th>6</th>\n      <td>honda</td>\n      <td>Blue</td>\n      <td>28561.250</td>\n      <td>4</td>\n      <td>7500.0</td>\n      <td>5</td>\n      <td>2</td>\n      <td>6.093067</td>\n    </tr>\n    <tr>\n      <th>7</th>\n      <td>honda</td>\n      <td>Blue</td>\n      <td>34211.250</td>\n      <td>4</td>\n      <td>7000.0</td>\n      <td>5</td>\n      <td>2</td>\n      <td>7.819714</td>\n    </tr>\n    <tr>\n      <th>8</th>\n      <td>toyota</td>\n      <td>White</td>\n      <td>37500.000</td>\n      <td>4</td>\n      <td>6250.0</td>\n      <td>5</td>\n      <td>2</td>\n      <td>9.600000</td>\n    </tr>\n    <tr>\n      <th>9</th>\n      <td>nissan</td>\n      <td>White</td>\n      <td>19750.000</td>\n      <td>4</td>\n      <td>9700.0</td>\n      <td>5</td>\n      <td>2</td>\n      <td>3.257732</td>\n    </tr>\n  </tbody>\n</table>\n</div>"
     },
     "metadata": {},
     "execution_count": 89
    }
   ],
   "source": [
    "# Change the Odometer values from kilometers to miles using a Lambda function\n",
    "# Then view the DataFrame\n",
    "car_sales[\"Odometer (KM)\"] = car_sales[\"Odometer (KM)\"].apply(lambda x: x / 1.6)\n",
    "car_sales"
   ]
  },
  {
   "cell_type": "code",
   "execution_count": 91,
   "metadata": {},
   "outputs": [
    {
     "output_type": "execute_result",
     "data": {
      "text/plain": [
       "     Make Colour  Odometer (Miles)  Doors    Price  Seats  Engine Size  \\\n",
       "0  toyota  White         93776.875      4   4000.0      5            2   \n",
       "1   honda    Red         54936.875      4   5000.0      5            2   \n",
       "2  toyota   Blue         20343.125      3   7000.0      5            2   \n",
       "3     bmw  Black          6986.875      5  22000.0      5            2   \n",
       "4  nissan  White        133184.375      4   3500.0      5            2   \n",
       "5  toyota  Green         62008.125      4   4500.0      5            2   \n",
       "6   honda   Blue         28561.250      4   7500.0      5            2   \n",
       "7   honda   Blue         34211.250      4   7000.0      5            2   \n",
       "8  toyota  White         37500.000      4   6250.0      5            2   \n",
       "9  nissan  White         19750.000      4   9700.0      5            2   \n",
       "\n",
       "   Price per KM  \n",
       "0     37.510750  \n",
       "1     17.579800  \n",
       "2      4.649857  \n",
       "3      0.508136  \n",
       "4     60.884286  \n",
       "5     22.047333  \n",
       "6      6.093067  \n",
       "7      7.819714  \n",
       "8      9.600000  \n",
       "9      3.257732  "
      ],
      "text/html": "<div>\n<style scoped>\n    .dataframe tbody tr th:only-of-type {\n        vertical-align: middle;\n    }\n\n    .dataframe tbody tr th {\n        vertical-align: top;\n    }\n\n    .dataframe thead th {\n        text-align: right;\n    }\n</style>\n<table border=\"1\" class=\"dataframe\">\n  <thead>\n    <tr style=\"text-align: right;\">\n      <th></th>\n      <th>Make</th>\n      <th>Colour</th>\n      <th>Odometer (Miles)</th>\n      <th>Doors</th>\n      <th>Price</th>\n      <th>Seats</th>\n      <th>Engine Size</th>\n      <th>Price per KM</th>\n    </tr>\n  </thead>\n  <tbody>\n    <tr>\n      <th>0</th>\n      <td>toyota</td>\n      <td>White</td>\n      <td>93776.875</td>\n      <td>4</td>\n      <td>4000.0</td>\n      <td>5</td>\n      <td>2</td>\n      <td>37.510750</td>\n    </tr>\n    <tr>\n      <th>1</th>\n      <td>honda</td>\n      <td>Red</td>\n      <td>54936.875</td>\n      <td>4</td>\n      <td>5000.0</td>\n      <td>5</td>\n      <td>2</td>\n      <td>17.579800</td>\n    </tr>\n    <tr>\n      <th>2</th>\n      <td>toyota</td>\n      <td>Blue</td>\n      <td>20343.125</td>\n      <td>3</td>\n      <td>7000.0</td>\n      <td>5</td>\n      <td>2</td>\n      <td>4.649857</td>\n    </tr>\n    <tr>\n      <th>3</th>\n      <td>bmw</td>\n      <td>Black</td>\n      <td>6986.875</td>\n      <td>5</td>\n      <td>22000.0</td>\n      <td>5</td>\n      <td>2</td>\n      <td>0.508136</td>\n    </tr>\n    <tr>\n      <th>4</th>\n      <td>nissan</td>\n      <td>White</td>\n      <td>133184.375</td>\n      <td>4</td>\n      <td>3500.0</td>\n      <td>5</td>\n      <td>2</td>\n      <td>60.884286</td>\n    </tr>\n    <tr>\n      <th>5</th>\n      <td>toyota</td>\n      <td>Green</td>\n      <td>62008.125</td>\n      <td>4</td>\n      <td>4500.0</td>\n      <td>5</td>\n      <td>2</td>\n      <td>22.047333</td>\n    </tr>\n    <tr>\n      <th>6</th>\n      <td>honda</td>\n      <td>Blue</td>\n      <td>28561.250</td>\n      <td>4</td>\n      <td>7500.0</td>\n      <td>5</td>\n      <td>2</td>\n      <td>6.093067</td>\n    </tr>\n    <tr>\n      <th>7</th>\n      <td>honda</td>\n      <td>Blue</td>\n      <td>34211.250</td>\n      <td>4</td>\n      <td>7000.0</td>\n      <td>5</td>\n      <td>2</td>\n      <td>7.819714</td>\n    </tr>\n    <tr>\n      <th>8</th>\n      <td>toyota</td>\n      <td>White</td>\n      <td>37500.000</td>\n      <td>4</td>\n      <td>6250.0</td>\n      <td>5</td>\n      <td>2</td>\n      <td>9.600000</td>\n    </tr>\n    <tr>\n      <th>9</th>\n      <td>nissan</td>\n      <td>White</td>\n      <td>19750.000</td>\n      <td>4</td>\n      <td>9700.0</td>\n      <td>5</td>\n      <td>2</td>\n      <td>3.257732</td>\n    </tr>\n  </tbody>\n</table>\n</div>"
     },
     "metadata": {},
     "execution_count": 91
    }
   ],
   "source": [
    "# Change the title of the Odometer (KM) to represent miles instead of kilometers\n",
    "car_sales.rename(columns={\"Odometer (KM)\" : \"Odometer (Miles)\"}, inplace=True)\n",
    "car_sales"
   ]
  },
  {
   "cell_type": "markdown",
   "metadata": {},
   "source": [
    "## Extensions\n",
    "\n",
    "For more exercises, check out the pandas documentation, particularly the [10-minutes to pandas section](https://pandas.pydata.org/pandas-docs/stable/user_guide/10min.html). \n",
    "\n",
    "One great exercise would be to retype out the entire section into a Jupyter Notebook of your own.\n",
    "\n",
    "Get hands-on with the code and see what it does.\n",
    "\n",
    "The next place you should check out are the [top questions and answers on Stack Overflow for pandas](https://stackoverflow.com/questions/tagged/pandas?sort=MostVotes&edited=true). Often, these contain some of the most useful and common pandas functions. Be sure to play around with the different filters!\n",
    "\n",
    "Finally, always remember, the best way to learn something new to is try it. Make mistakes. Ask questions, get things wrong, take note of the things you do most often. And don't worry if you keep making the same mistake, pandas has many ways to do the same thing and is a big library. So it'll likely take a while before you get the hang of it."
   ]
  }
 ],
 "metadata": {
  "kernelspec": {
   "name": "python385jvsc74a57bd03bb3707d5865f0e0e06961a47c3bdf40641e88cd22b80089f0bf187846d3112f",
   "display_name": "Python 3.8.5 64-bit ('base': conda)"
  },
  "language_info": {
   "codemirror_mode": {
    "name": "ipython",
    "version": 3
   },
   "file_extension": ".py",
   "mimetype": "text/x-python",
   "name": "python",
   "nbconvert_exporter": "python",
   "pygments_lexer": "ipython3",
   "version": "3.8.5"
  }
 },
 "nbformat": 4,
 "nbformat_minor": 2
}